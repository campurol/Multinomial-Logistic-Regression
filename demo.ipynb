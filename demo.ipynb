{
 "cells": [
  {
   "cell_type": "markdown",
   "metadata": {},
   "source": [
    "The MIT License (MIT)\n",
    "\n",
    "Copyright (c) 2018 Lisong Guo <lisong.guo@me.com>\n",
    "\n",
    "Permission is hereby granted, free of charge, to any person obtaining a copy of\n",
    "this software and associated documentation files (the \"Software\"), to deal in\n",
    "the Software without restriction, including without limitation the rights to\n",
    "use, copy, modify, merge, publish, distribute, sublicense, and/or sell copies of\n",
    "the Software, and to permit persons to whom the Software is furnished to do so,\n",
    "subject to the following conditions:\n",
    "\n",
    "The above copyright notice and this permission notice shall be included in all\n",
    "copies or substantial portions of the Software.\n",
    "\n",
    "THE SOFTWARE IS PROVIDED \"AS IS\", WITHOUT WARRANTY OF ANY KIND, EXPRESS OR\n",
    "IMPLIED, INCLUDING BUT NOT LIMITED TO THE WARRANTIES OF MERCHANTABILITY, FITNESS\n",
    "FOR A PARTICULAR PURPOSE AND NONINFRINGEMENT. IN NO EVENT SHALL THE AUTHORS OR\n",
    "COPYRIGHT HOLDERS BE LIABLE FOR ANY CLAIM, DAMAGES OR OTHER LIABILITY, WHETHER\n",
    "IN AN ACTION OF CONTRACT, TORT OR OTHERWISE, ARISING FROM, OUT OF OR IN\n",
    "CONNECTION WITH THE SOFTWARE OR THE USE OR OTHER DEALINGS IN THE SOFTWARE.\n"
   ]
  },
  {
   "cell_type": "markdown",
   "metadata": {},
   "source": [
    "### Abstract\n",
    "\n",
    "This notebook is intended to showcase how to use the MNL (Multinomial Logistic Regression) model to predict the booking probability for each option within a session.\n",
    "\n",
    "One can find the sample training and testing data under the `data` folder."
   ]
  },
  {
   "cell_type": "code",
   "execution_count": 15,
   "metadata": {},
   "outputs": [],
   "source": [
    "# import the model and all the auxiliary functions\n",
    "from MNL import *\n",
    "from MNL_plus import *\n",
    "from Mint import *\n",
    "\n",
    "# for auto-reloading external modules\n",
    "# see http://stackoverflow.com/questions/1907993/autoreload-of-modules-in-ipython\n",
    "%load_ext autoreload\n",
    "%autoreload 2"
   ]
  },
  {
   "cell_type": "code",
   "execution_count": 15,
   "metadata": {
    "collapsed": true,
    "jupyter": {
     "outputs_hidden": true
    }
   },
   "outputs": [],
   "source": [
    "import pandas as pd\n",
    "import numpy as np\n",
    "\n",
    "import pprint \n",
    "pp = pprint.PrettyPrinter(indent=4)\n",
    "\n",
    "import seaborn as sns\n",
    "import matplotlib.pyplot as plt\n",
    "%matplotlib inline\n",
    "\n",
    "from matplotlib.pylab import rcParams\n",
    "rcParams['figure.figsize'] = 15,6\n",
    "rcParams['figure.dpi'] = 100\n",
    "rcParams['savefig.dpi'] = 100"
   ]
  },
  {
   "cell_type": "code",
   "execution_count": 24,
   "metadata": {},
   "outputs": [],
   "source": [
    "\n",
    "TRAIN_CONFIG = {\n",
    "    #'MNL_features': MNL_features,\n",
    "    \n",
    "    # when absent, by default, use all the features within the training data\n",
    "    #'alter_features': MNL_features,\n",
    "    #'session_features'\n",
    "    \n",
    "    # options: BinaryCrossEntropy, MaxLogLikelihood\n",
    "    #'loss':  'MaxLogLikelihood',\n",
    "    'loss':  'BinaryCrossEntropy',\n",
    "    \n",
    "    'expand': False,\n",
    "    \n",
    "    'optimizer': 'Adam',  # options:  Adam, RMSprop, SGD, LBFGS.\n",
    "    # Adam would converge much faster\n",
    "    # LBFGS is a very memory intensive optimizer (it requires additional param_bytes * (history_size + 1) bytes).\n",
    "    # If it doesn’t fit in memory try reducing the history size, or use a different algorithm.\n",
    "    # By default, history_size == 100\n",
    "    'learning_rate': 1e-3, # Applicable to Adam, SGD, and LBFGS\n",
    "    # The learning_rate parameter seems essential to LBFGS, which converges in two epochs.\n",
    "    #  So far, learning_rate == 0.1 seems to be ok for LBFGS\n",
    "    \n",
    "    #'momentum': 0.9,  # applicable to SGD, RMSprop\n",
    "    'momentum': 0,  # applicable to SGD, RMSprop\n",
    "    \n",
    "    # The resulting model seems to be more balanced, i.e. no extreme large/small weights,\n",
    "    #  although one might not have the most ideal performance, i.e. high top_5_rank etc.\n",
    "    'weight_decay': 0, # Applicable to Adam, RMSprop and SGD\n",
    "    \n",
    "    'epochs': 20,\n",
    "    'early_stop_min_delta': 1e-4,\n",
    "    'patience': 5,\n",
    "    \n",
    "    'gpu': False,  # luckily, running on GPU is faster than CPU in this case.\n",
    "    \n",
    "    # level of logging, 0: no log,  1: print epoch related logs;  2: print session related logs\n",
    "    'verbose': 1,\n",
    "    \n",
    "    # Adding the regularization degredates the performance of model\n",
    "    #   which might suggests that the model is still underfitting, not overfitting.\n",
    "    'l1_loss_weight': 0,  # e.g. 0.001 the regularization that would marginalize the weights\n",
    "    'l2_loss_weight': 0,\n",
    "    \n",
    "    # flag indicates whether to save gradients during the training\n",
    "    'save_gradients': False\n",
    "}\n"
   ]
  },
  {
   "cell_type": "code",
   "execution_count": 26,
   "metadata": {},
   "outputs": [
    {
     "name": "stdout",
     "output_type": "stream",
     "text": [
      "Num features: 17\n",
      "========================\n",
      "{'loss': 'BinaryCrossEntropy', 'expand': False, 'optimizer': 'Adam', 'learning_rate': 0.001, 'momentum': 0, 'weight_decay': 0, 'epochs': 20, 'early_stop_min_delta': 0.0001, 'patience': 5, 'gpu': False, 'verbose': 1, 'l1_loss_weight': 0, 'l2_loss_weight': 0, 'save_gradients': False, 'MNL_features': ['deptime_inbound_cos2p', 'deptime_inbound_cos4p', 'deptime_inbound_sin2p', 'deptime_inbound_sin4p', 'deptime_outbound_cos2p', 'deptime_outbound_cos4p', 'deptime_outbound_sin2p', 'deptime_outbound_sin4p', 'price_elasticity', 'reco_contains_CX', 'reco_contains_MH', 'reco_contains_OD', 'reco_contains_PG', 'reco_contains_SQ', 'reco_contains_TG', 'reco_contains_VN', 'rescaled_reco_eft']}\n",
      "========================\n"
     ]
    },
    {
     "name": "stderr",
     "output_type": "stream",
     "text": [
      "/home/jovyan/UofT/Ideas/location/code/nmlogit/MNL.py:46: UserWarning: Implicit dimension choice for softmax has been deprecated. Change the call to include dim=X as an argument.\n",
      "  return torch.t(self.softmax(util_values))\n"
     ]
    },
    {
     "name": "stdout",
     "output_type": "stream",
     "text": [
      "epoch: 0  loss: 692.8990890536323 best_loss: 1000000000000000.0\n",
      "epoch: 1  loss: 182.468878417873 best_loss: 692.8990890536323\n",
      "epoch: 2  loss: 179.89239988701556 best_loss: 182.468878417873\n",
      "epoch: 3  loss: 178.82548713288176 best_loss: 179.89239988701556\n",
      "epoch: 4  loss: 178.26495447766675 best_loss: 178.82548713288176\n",
      "epoch: 5  loss: 177.93150318686247 best_loss: 178.26495447766675\n",
      "epoch: 6  loss: 177.70852256815377 best_loss: 177.93150318686247\n",
      "epoch: 7  loss: 177.5447816356338 best_loss: 177.70852256815377\n",
      "epoch: 8  loss: 177.41677550798718 best_loss: 177.5447816356338\n",
      "epoch: 9  loss: 177.31219554987783 best_loss: 177.41677550798718\n",
      "epoch: 10  loss: 177.22387530108801 best_loss: 177.31219554987783\n",
      "epoch: 11  loss: 177.14738076443865 best_loss: 177.22387530108801\n",
      "epoch: 12  loss: 177.07985203610028 best_loss: 177.14738076443865\n",
      "epoch: 13  loss: 177.01937734441074 best_loss: 177.07985203610028\n",
      "epoch: 14  loss: 176.96463399585278 best_loss: 177.01937734441074\n",
      "epoch: 15  loss: 176.91467505032875 best_loss: 176.96463399585278\n",
      "epoch: 16  loss: 176.86879932300556 best_loss: 176.91467505032875\n",
      "epoch: 17  loss: 176.82647047050958 best_loss: 176.86879932300556\n",
      "epoch: 18  loss: 176.7872656468075 best_loss: 176.82647047050958\n",
      "epoch: 19  loss: 176.7508423082333 best_loss: 176.7872656468075\n",
      "Final epoch: 19  loss: 176.7508423082333\n",
      "Num features: 17\n",
      "========================\n",
      "{'loss': 'BinaryCrossEntropy', 'expand': False, 'optimizer': 'Adam', 'learning_rate': 0.001, 'momentum': 0, 'weight_decay': 0, 'epochs': 20, 'early_stop_min_delta': 0.0001, 'patience': 5, 'gpu': False, 'verbose': 1, 'l1_loss_weight': 0, 'l2_loss_weight': 0, 'save_gradients': False, 'MNL_features': ['deptime_inbound_cos2p', 'deptime_inbound_cos4p', 'deptime_inbound_sin2p', 'deptime_inbound_sin4p', 'deptime_outbound_cos2p', 'deptime_outbound_cos4p', 'deptime_outbound_sin2p', 'deptime_outbound_sin4p', 'price_elasticity', 'reco_contains_CX', 'reco_contains_MH', 'reco_contains_OD', 'reco_contains_PG', 'reco_contains_SQ', 'reco_contains_TG', 'reco_contains_VN', 'rescaled_reco_eft']}\n",
      "========================\n",
      "Continue training...\n",
      "epoch: 0  loss: 176.71691634294612 best_loss: 1000000000000000.0\n",
      "epoch: 1  loss: 176.68524737455775 best_loss: 176.71691634294612\n",
      "epoch: 2  loss: 176.65562867756034 best_loss: 176.68524737455775\n",
      "epoch: 3  loss: 176.62788010113465 best_loss: 176.65562867756034\n",
      "epoch: 4  loss: 176.60184298557954 best_loss: 176.62788010113465\n",
      "epoch: 5  loss: 176.5773764201256 best_loss: 176.60184298557954\n",
      "epoch: 6  loss: 176.55435441932062 best_loss: 176.5773764201256\n",
      "epoch: 7  loss: 176.5326637396276 best_loss: 176.55435441932062\n",
      "epoch: 8  loss: 176.5122021507884 best_loss: 176.5326637396276\n",
      "epoch: 9  loss: 176.49287703749627 best_loss: 176.5122021507884\n",
      "epoch: 10  loss: 176.47460424729383 best_loss: 176.49287703749627\n",
      "epoch: 11  loss: 176.45730712672596 best_loss: 176.47460424729383\n",
      "epoch: 12  loss: 176.44091570436342 best_loss: 176.45730712672596\n",
      "epoch: 13  loss: 176.425365990342 best_loss: 176.44091570436342\n",
      "epoch: 14  loss: 176.410599369737 best_loss: 176.425365990342\n",
      "epoch: 15  loss: 176.39656207274209 best_loss: 176.410599369737\n",
      "epoch: 16  loss: 176.3832047086794 best_loss: 176.39656207274209\n",
      "epoch: 17  loss: 176.37048185379302 best_loss: 176.3832047086794\n",
      "epoch: 18  loss: 176.35835168491593 best_loss: 176.37048185379302\n",
      "epoch: 19  loss: 176.34677565263328 best_loss: 176.35835168491593\n",
      "Final epoch: 19  loss: 176.34677565263328\n"
     ]
    },
    {
     "data": {
      "image/png": "[encoded data removed]",
      "text/plain": [
       "<Figure size 1500x600 with 1 Axes>"
      ]
     },
     "metadata": {
      "needs_background": "light"
     },
     "output_type": "display_data"
    }
   ],
   "source": [
    "# set random seed for reproduceability\n",
    "np.random.seed(17)\n",
    "torch.manual_seed(17)\n",
    "\n",
    "df_train = pd.read_csv('data/train_SINBKK_RT_B.csv')\n",
    "\n",
    "# Create a brand-new model\n",
    "model_tuple, loss_list = run_training(df_training=df_train, train_config=TRAIN_CONFIG)\n",
    "\n",
    "# Continue training on the existing model\n",
    "model_tuple, loss_list = run_training(df_training=df_train, train_config=TRAIN_CONFIG, model_tuple=model_tuple)\n",
    "\n",
    "\n",
    "# unzip the tuple\n",
    "(model, loss, optimizer) = model_tuple\n",
    "\n",
    "\n",
    "# plot the evolution of loss\n",
    "plot_loss(loss_list)"
   ]
  },
  {
   "cell_type": "markdown",
   "metadata": {},
   "source": [
    "### Model Validation\n",
    "\n",
    "In this section, we test the trained model and calculate some performance benchmarks."
   ]
  },
  {
   "cell_type": "code",
   "execution_count": 27,
   "metadata": {},
   "outputs": [
    {
     "name": "stdout",
     "output_type": "stream",
     "text": [
      "Num of testing sessions: 542\n"
     ]
    },
    {
     "name": "stderr",
     "output_type": "stream",
     "text": [
      "/home/jovyan/UofT/Ideas/location/code/nmlogit/MNL.py:46: UserWarning: Implicit dimension choice for softmax has been deprecated. Change the call to include dim=X as an argument.\n",
      "  return torch.t(self.softmax(util_values))\n"
     ]
    },
    {
     "data": {
      "text/html": [
       "<div>\n",
       "<style scoped>\n",
       "    .dataframe tbody tr th:only-of-type {\n",
       "        vertical-align: middle;\n",
       "    }\n",
       "\n",
       "    .dataframe tbody tr th {\n",
       "        vertical-align: top;\n",
       "    }\n",
       "\n",
       "    .dataframe thead th {\n",
       "        text-align: right;\n",
       "    }\n",
       "</style>\n",
       "<table border=\"1\" class=\"dataframe\">\n",
       "  <thead>\n",
       "    <tr style=\"text-align: right;\">\n",
       "      <th></th>\n",
       "      <th>session_id</th>\n",
       "      <th>alter_id</th>\n",
       "      <th>choice</th>\n",
       "      <th>price_elasticity</th>\n",
       "      <th>rescaled_reco_eft</th>\n",
       "      <th>reco_contains_MH</th>\n",
       "      <th>reco_contains_TG</th>\n",
       "      <th>reco_contains_PG</th>\n",
       "      <th>reco_contains_SQ</th>\n",
       "      <th>reco_contains_VN</th>\n",
       "      <th>...</th>\n",
       "      <th>reco_contains_OD</th>\n",
       "      <th>deptime_outbound_sin2p</th>\n",
       "      <th>deptime_outbound_sin4p</th>\n",
       "      <th>deptime_outbound_cos2p</th>\n",
       "      <th>deptime_outbound_cos4p</th>\n",
       "      <th>deptime_inbound_sin2p</th>\n",
       "      <th>deptime_inbound_sin4p</th>\n",
       "      <th>deptime_inbound_cos2p</th>\n",
       "      <th>deptime_inbound_cos4p</th>\n",
       "      <th>pred_value</th>\n",
       "    </tr>\n",
       "  </thead>\n",
       "  <tbody>\n",
       "    <tr>\n",
       "      <th>8710</th>\n",
       "      <td>1703033726</td>\n",
       "      <td>0</td>\n",
       "      <td>1</td>\n",
       "      <td>316.2</td>\n",
       "      <td>0.000000</td>\n",
       "      <td>0</td>\n",
       "      <td>1</td>\n",
       "      <td>0</td>\n",
       "      <td>0</td>\n",
       "      <td>0</td>\n",
       "      <td>...</td>\n",
       "      <td>0</td>\n",
       "      <td>0.906308</td>\n",
       "      <td>-0.766044</td>\n",
       "      <td>-0.422618</td>\n",
       "      <td>-0.642788</td>\n",
       "      <td>-0.915312</td>\n",
       "      <td>7.372771e-01</td>\n",
       "      <td>-4.027466e-01</td>\n",
       "      <td>-0.67559</td>\n",
       "      <td>1.721015e-01</td>\n",
       "    </tr>\n",
       "    <tr>\n",
       "      <th>8711</th>\n",
       "      <td>1703033726</td>\n",
       "      <td>1</td>\n",
       "      <td>0</td>\n",
       "      <td>216.2</td>\n",
       "      <td>3.997044</td>\n",
       "      <td>1</td>\n",
       "      <td>0</td>\n",
       "      <td>0</td>\n",
       "      <td>0</td>\n",
       "      <td>0</td>\n",
       "      <td>...</td>\n",
       "      <td>0</td>\n",
       "      <td>-0.806445</td>\n",
       "      <td>0.953717</td>\n",
       "      <td>-0.591309</td>\n",
       "      <td>-0.300706</td>\n",
       "      <td>1.000000</td>\n",
       "      <td>1.224647e-16</td>\n",
       "      <td>6.123234e-17</td>\n",
       "      <td>-1.00000</td>\n",
       "      <td>6.587497e-06</td>\n",
       "    </tr>\n",
       "    <tr>\n",
       "      <th>8712</th>\n",
       "      <td>1703033726</td>\n",
       "      <td>2</td>\n",
       "      <td>0</td>\n",
       "      <td>216.2</td>\n",
       "      <td>5.497044</td>\n",
       "      <td>1</td>\n",
       "      <td>0</td>\n",
       "      <td>0</td>\n",
       "      <td>0</td>\n",
       "      <td>0</td>\n",
       "      <td>...</td>\n",
       "      <td>0</td>\n",
       "      <td>-0.806445</td>\n",
       "      <td>0.953717</td>\n",
       "      <td>-0.591309</td>\n",
       "      <td>-0.300706</td>\n",
       "      <td>1.000000</td>\n",
       "      <td>1.224647e-16</td>\n",
       "      <td>6.123234e-17</td>\n",
       "      <td>-1.00000</td>\n",
       "      <td>2.114179e-06</td>\n",
       "    </tr>\n",
       "    <tr>\n",
       "      <th>8713</th>\n",
       "      <td>1703033726</td>\n",
       "      <td>3</td>\n",
       "      <td>0</td>\n",
       "      <td>216.2</td>\n",
       "      <td>7.330044</td>\n",
       "      <td>1</td>\n",
       "      <td>0</td>\n",
       "      <td>0</td>\n",
       "      <td>0</td>\n",
       "      <td>0</td>\n",
       "      <td>...</td>\n",
       "      <td>0</td>\n",
       "      <td>-0.065403</td>\n",
       "      <td>0.130527</td>\n",
       "      <td>-0.997859</td>\n",
       "      <td>0.991445</td>\n",
       "      <td>1.000000</td>\n",
       "      <td>1.224647e-16</td>\n",
       "      <td>6.123234e-17</td>\n",
       "      <td>-1.00000</td>\n",
       "      <td>1.364682e-06</td>\n",
       "    </tr>\n",
       "    <tr>\n",
       "      <th>8714</th>\n",
       "      <td>1703033726</td>\n",
       "      <td>4</td>\n",
       "      <td>0</td>\n",
       "      <td>216.2</td>\n",
       "      <td>7.330044</td>\n",
       "      <td>1</td>\n",
       "      <td>0</td>\n",
       "      <td>0</td>\n",
       "      <td>0</td>\n",
       "      <td>0</td>\n",
       "      <td>...</td>\n",
       "      <td>0</td>\n",
       "      <td>-0.806445</td>\n",
       "      <td>0.953717</td>\n",
       "      <td>-0.591309</td>\n",
       "      <td>-0.300706</td>\n",
       "      <td>1.000000</td>\n",
       "      <td>1.224647e-16</td>\n",
       "      <td>6.123234e-17</td>\n",
       "      <td>-1.00000</td>\n",
       "      <td>5.272160e-07</td>\n",
       "    </tr>\n",
       "  </tbody>\n",
       "</table>\n",
       "<p>5 rows × 21 columns</p>\n",
       "</div>"
      ],
      "text/plain": [
       "      session_id  alter_id  choice  price_elasticity  rescaled_reco_eft  \\\n",
       "8710  1703033726         0       1             316.2           0.000000   \n",
       "8711  1703033726         1       0             216.2           3.997044   \n",
       "8712  1703033726         2       0             216.2           5.497044   \n",
       "8713  1703033726         3       0             216.2           7.330044   \n",
       "8714  1703033726         4       0             216.2           7.330044   \n",
       "\n",
       "      reco_contains_MH  reco_contains_TG  reco_contains_PG  reco_contains_SQ  \\\n",
       "8710                 0                 1                 0                 0   \n",
       "8711                 1                 0                 0                 0   \n",
       "8712                 1                 0                 0                 0   \n",
       "8713                 1                 0                 0                 0   \n",
       "8714                 1                 0                 0                 0   \n",
       "\n",
       "      reco_contains_VN  ...  reco_contains_OD  deptime_outbound_sin2p  \\\n",
       "8710                 0  ...                 0                0.906308   \n",
       "8711                 0  ...                 0               -0.806445   \n",
       "8712                 0  ...                 0               -0.806445   \n",
       "8713                 0  ...                 0               -0.065403   \n",
       "8714                 0  ...                 0               -0.806445   \n",
       "\n",
       "      deptime_outbound_sin4p  deptime_outbound_cos2p  deptime_outbound_cos4p  \\\n",
       "8710               -0.766044               -0.422618               -0.642788   \n",
       "8711                0.953717               -0.591309               -0.300706   \n",
       "8712                0.953717               -0.591309               -0.300706   \n",
       "8713                0.130527               -0.997859                0.991445   \n",
       "8714                0.953717               -0.591309               -0.300706   \n",
       "\n",
       "      deptime_inbound_sin2p  deptime_inbound_sin4p  deptime_inbound_cos2p  \\\n",
       "8710              -0.915312           7.372771e-01          -4.027466e-01   \n",
       "8711               1.000000           1.224647e-16           6.123234e-17   \n",
       "8712               1.000000           1.224647e-16           6.123234e-17   \n",
       "8713               1.000000           1.224647e-16           6.123234e-17   \n",
       "8714               1.000000           1.224647e-16           6.123234e-17   \n",
       "\n",
       "      deptime_inbound_cos4p    pred_value  \n",
       "8710               -0.67559  1.721015e-01  \n",
       "8711               -1.00000  6.587497e-06  \n",
       "8712               -1.00000  2.114179e-06  \n",
       "8713               -1.00000  1.364682e-06  \n",
       "8714               -1.00000  5.272160e-07  \n",
       "\n",
       "[5 rows x 21 columns]"
      ]
     },
     "execution_count": 27,
     "metadata": {},
     "output_type": "execute_result"
    }
   ],
   "source": [
    "df_test = pd.read_csv('data/test_SINBKK_RT_B.csv')\n",
    "\n",
    "test_results = test_model(model, df_test, TRAIN_CONFIG)\n",
    "\n",
    "test_results.head()"
   ]
  },
  {
   "cell_type": "code",
   "execution_count": 28,
   "metadata": {},
   "outputs": [
    {
     "name": "stdout",
     "output_type": "stream",
     "text": [
      "Num of testing sessions: 542\n"
     ]
    },
    {
     "name": "stderr",
     "output_type": "stream",
     "text": [
      "/home/jovyan/UofT/Ideas/location/code/nmlogit/MNL.py:46: UserWarning: Implicit dimension choice for softmax has been deprecated. Change the call to include dim=X as an argument.\n",
      "  return torch.t(self.softmax(util_values))\n"
     ]
    },
    {
     "data": {
      "text/html": [
       "<div>\n",
       "<style scoped>\n",
       "    .dataframe tbody tr th:only-of-type {\n",
       "        vertical-align: middle;\n",
       "    }\n",
       "\n",
       "    .dataframe tbody tr th {\n",
       "        vertical-align: top;\n",
       "    }\n",
       "\n",
       "    .dataframe thead th {\n",
       "        text-align: right;\n",
       "    }\n",
       "</style>\n",
       "<table border=\"1\" class=\"dataframe\">\n",
       "  <thead>\n",
       "    <tr style=\"text-align: right;\">\n",
       "      <th></th>\n",
       "      <th>session_id</th>\n",
       "      <th>session_size</th>\n",
       "      <th>num_chosen_choices</th>\n",
       "      <th>rank_of_chosen_one</th>\n",
       "      <th>prob_of_chosen_one</th>\n",
       "      <th>max_prob</th>\n",
       "    </tr>\n",
       "  </thead>\n",
       "  <tbody>\n",
       "    <tr>\n",
       "      <th>0</th>\n",
       "      <td>1702036</td>\n",
       "      <td>36</td>\n",
       "      <td>1</td>\n",
       "      <td>12.0</td>\n",
       "      <td>0.027704</td>\n",
       "      <td>0.152154</td>\n",
       "    </tr>\n",
       "    <tr>\n",
       "      <th>1</th>\n",
       "      <td>1704193</td>\n",
       "      <td>60</td>\n",
       "      <td>1</td>\n",
       "      <td>8.0</td>\n",
       "      <td>0.033080</td>\n",
       "      <td>0.116134</td>\n",
       "    </tr>\n",
       "    <tr>\n",
       "      <th>2</th>\n",
       "      <td>17033132</td>\n",
       "      <td>60</td>\n",
       "      <td>1</td>\n",
       "      <td>1.0</td>\n",
       "      <td>0.274971</td>\n",
       "      <td>0.274971</td>\n",
       "    </tr>\n",
       "    <tr>\n",
       "      <th>3</th>\n",
       "      <td>17041139</td>\n",
       "      <td>60</td>\n",
       "      <td>1</td>\n",
       "      <td>5.0</td>\n",
       "      <td>0.072115</td>\n",
       "      <td>0.255718</td>\n",
       "    </tr>\n",
       "    <tr>\n",
       "      <th>4</th>\n",
       "      <td>17042962</td>\n",
       "      <td>60</td>\n",
       "      <td>1</td>\n",
       "      <td>10.0</td>\n",
       "      <td>0.036439</td>\n",
       "      <td>0.100252</td>\n",
       "    </tr>\n",
       "  </tbody>\n",
       "</table>\n",
       "</div>"
      ],
      "text/plain": [
       "   session_id  session_size  num_chosen_choices  rank_of_chosen_one  \\\n",
       "0     1702036            36                   1                12.0   \n",
       "1     1704193            60                   1                 8.0   \n",
       "2    17033132            60                   1                 1.0   \n",
       "3    17041139            60                   1                 5.0   \n",
       "4    17042962            60                   1                10.0   \n",
       "\n",
       "   prob_of_chosen_one  max_prob  \n",
       "0            0.027704  0.152154  \n",
       "1            0.033080  0.116134  \n",
       "2            0.274971  0.274971  \n",
       "3            0.072115  0.255718  \n",
       "4            0.036439  0.100252  "
      ]
     },
     "execution_count": 28,
     "metadata": {},
     "output_type": "execute_result"
    }
   ],
   "source": [
    "# Test the model with the testing data\n",
    "# Calculate the probability and the trank of the chosen alternative\n",
    "test_stats = validate(model, df_test, TRAIN_CONFIG)\n",
    "\n",
    "test_stats.head()"
   ]
  },
  {
   "cell_type": "markdown",
   "metadata": {},
   "source": [
    "Summarize the testing results into a list of KPIs, such as:\n",
    "\n",
    "- *mean_probability*: the average probability of the predicted alternative among all sessions\n",
    "\n",
    "\n",
    "- *top_5_rank_quantile*: the percentile of sessions where the probability of the predicted alternative is among the top 5.\n",
    "\n",
    "\n",
    "- *AIC*: Akaike Information Criterion, which offers an estimate of the relative information lost when a given model is used to represent the process that generated the data."
   ]
  },
  {
   "cell_type": "code",
   "execution_count": 29,
   "metadata": {},
   "outputs": [
    {
     "data": {
      "text/plain": [
       "{'session_num': 542,\n",
       " 'mean_session_size': 54.7029520295203,\n",
       " 'top_1_rank_quantile': 17.15867158671587,\n",
       " 'top_5_rank_quantile': 52.952029520295206,\n",
       " 'top_10_rank_quantile': 71.77121771217713,\n",
       " 'mean_rank_ratio': 0.17871061674879246,\n",
       " 'median_rank_ratio': 0.1,\n",
       " 'mean_rank': 8.559040590405903,\n",
       " 'median_rank': 5.0,\n",
       " 'mean_probability': 0.0991734128641277,\n",
       " 'median_probability': 0.06358249120774245,\n",
       " 'mean_probability_diff': -0.09017211150846485,\n",
       " 'median_probability_diff': -0.0913922603824946,\n",
       " 'log_likelihood': -1564.1135301674294,\n",
       " 'mean_log_likelihood': -2.885818321342121,\n",
       " 'AIC': 3162.227060334859}"
      ]
     },
     "execution_count": 29,
     "metadata": {},
     "output_type": "execute_result"
    }
   ],
   "source": [
    "summarize_KPIs(test_stats, len(TRAIN_CONFIG['MNL_features']))"
   ]
  },
  {
   "cell_type": "markdown",
   "metadata": {},
   "source": [
    "### Model Deployment\n",
    "\n",
    "In this section, we show some examples on how to use the APIs to serialize the model and eventually deploy it in the production environment. "
   ]
  },
  {
   "cell_type": "code",
   "execution_count": 30,
   "metadata": {},
   "outputs": [
    {
     "data": {
      "text/plain": [
       "{'deptime_inbound_cos2p': -0.8496660580070212,\n",
       " 'deptime_inbound_cos4p': -0.30762897420538404,\n",
       " 'deptime_inbound_sin2p': -1.6232614842772368,\n",
       " 'deptime_inbound_sin4p': -0.6261308533929246,\n",
       " 'deptime_outbound_cos2p': -1.1658988603880276,\n",
       " 'deptime_outbound_cos4p': -0.1422746541040992,\n",
       " 'deptime_outbound_sin2p': 0.14962669318119354,\n",
       " 'deptime_outbound_sin4p': -0.6681710940490121,\n",
       " 'price_elasticity': 0.0010235259234092533,\n",
       " 'reco_contains_CX': 1.2553528481302576,\n",
       " 'reco_contains_MH': -2.243281322063111,\n",
       " 'reco_contains_OD': -1.4806246614161545,\n",
       " 'reco_contains_PG': -14.88035895891395,\n",
       " 'reco_contains_SQ': 0.9626827764243119,\n",
       " 'reco_contains_TG': 0.6494038674170384,\n",
       " 'reco_contains_VN': -2.5550744181940255,\n",
       " 'rescaled_reco_eft': -0.7576713365597603}"
      ]
     },
     "execution_count": 30,
     "metadata": {},
     "output_type": "execute_result"
    }
   ],
   "source": [
    "# Transfer the trained model to a minimized model for later inference.\n",
    "\n",
    "model_to_deploy = Mint(TRAIN_CONFIG['MNL_features'], model.get_feature_weights())\n",
    "\n",
    "model_to_deploy.get_feature_weights()"
   ]
  },
  {
   "cell_type": "code",
   "execution_count": 31,
   "metadata": {},
   "outputs": [
    {
     "name": "stdout",
     "output_type": "stream",
     "text": [
      "save model to  model/mint_model.pkl\n"
     ]
    }
   ],
   "source": [
    "# Dump/Pickle the model object into a binary file.\n",
    "model_to_deploy.save('model/mint_model.pkl')"
   ]
  },
  {
   "cell_type": "code",
   "execution_count": 32,
   "metadata": {},
   "outputs": [
    {
     "name": "stdout",
     "output_type": "stream",
     "text": [
      "load model from  model/mint_model.pkl\n"
     ]
    }
   ],
   "source": [
    "# instantialize a new model from the pickle file\n",
    "inference_model = load_model('model/mint_model.pkl')"
   ]
  },
  {
   "cell_type": "code",
   "execution_count": 33,
   "metadata": {},
   "outputs": [
    {
     "data": {
      "text/html": [
       "<div>\n",
       "<style scoped>\n",
       "    .dataframe tbody tr th:only-of-type {\n",
       "        vertical-align: middle;\n",
       "    }\n",
       "\n",
       "    .dataframe tbody tr th {\n",
       "        vertical-align: top;\n",
       "    }\n",
       "\n",
       "    .dataframe thead th {\n",
       "        text-align: right;\n",
       "    }\n",
       "</style>\n",
       "<table border=\"1\" class=\"dataframe\">\n",
       "  <thead>\n",
       "    <tr style=\"text-align: right;\">\n",
       "      <th></th>\n",
       "      <th>deptime_inbound_cos2p</th>\n",
       "      <th>deptime_inbound_cos4p</th>\n",
       "      <th>deptime_inbound_sin2p</th>\n",
       "      <th>deptime_inbound_sin4p</th>\n",
       "      <th>deptime_outbound_cos2p</th>\n",
       "      <th>deptime_outbound_cos4p</th>\n",
       "      <th>deptime_outbound_sin2p</th>\n",
       "      <th>deptime_outbound_sin4p</th>\n",
       "      <th>price_elasticity</th>\n",
       "      <th>reco_contains_CX</th>\n",
       "      <th>reco_contains_MH</th>\n",
       "      <th>reco_contains_OD</th>\n",
       "      <th>reco_contains_PG</th>\n",
       "      <th>reco_contains_SQ</th>\n",
       "      <th>reco_contains_TG</th>\n",
       "      <th>reco_contains_VN</th>\n",
       "      <th>rescaled_reco_eft</th>\n",
       "    </tr>\n",
       "  </thead>\n",
       "  <tbody>\n",
       "    <tr>\n",
       "      <th>1617</th>\n",
       "      <td>0.422618</td>\n",
       "      <td>-0.642788</td>\n",
       "      <td>-0.906308</td>\n",
       "      <td>-0.766044</td>\n",
       "      <td>-0.422618</td>\n",
       "      <td>-0.642788</td>\n",
       "      <td>0.906308</td>\n",
       "      <td>-0.766044</td>\n",
       "      <td>248.6</td>\n",
       "      <td>0</td>\n",
       "      <td>0</td>\n",
       "      <td>0</td>\n",
       "      <td>0</td>\n",
       "      <td>0</td>\n",
       "      <td>1</td>\n",
       "      <td>0</td>\n",
       "      <td>0.0</td>\n",
       "    </tr>\n",
       "    <tr>\n",
       "      <th>1618</th>\n",
       "      <td>-0.980785</td>\n",
       "      <td>0.923880</td>\n",
       "      <td>0.195090</td>\n",
       "      <td>-0.382683</td>\n",
       "      <td>-0.994056</td>\n",
       "      <td>0.976296</td>\n",
       "      <td>-0.108867</td>\n",
       "      <td>0.216439</td>\n",
       "      <td>217.6</td>\n",
       "      <td>0</td>\n",
       "      <td>0</td>\n",
       "      <td>0</td>\n",
       "      <td>0</td>\n",
       "      <td>0</td>\n",
       "      <td>1</td>\n",
       "      <td>0</td>\n",
       "      <td>0.0</td>\n",
       "    </tr>\n",
       "    <tr>\n",
       "      <th>1619</th>\n",
       "      <td>-0.980785</td>\n",
       "      <td>0.923880</td>\n",
       "      <td>0.195090</td>\n",
       "      <td>-0.382683</td>\n",
       "      <td>-0.518773</td>\n",
       "      <td>-0.461748</td>\n",
       "      <td>-0.854912</td>\n",
       "      <td>0.887011</td>\n",
       "      <td>217.6</td>\n",
       "      <td>0</td>\n",
       "      <td>0</td>\n",
       "      <td>0</td>\n",
       "      <td>0</td>\n",
       "      <td>0</td>\n",
       "      <td>1</td>\n",
       "      <td>0</td>\n",
       "      <td>0.0</td>\n",
       "    </tr>\n",
       "    <tr>\n",
       "      <th>1620</th>\n",
       "      <td>-0.980785</td>\n",
       "      <td>0.923880</td>\n",
       "      <td>0.195090</td>\n",
       "      <td>-0.382683</td>\n",
       "      <td>-0.422618</td>\n",
       "      <td>-0.642788</td>\n",
       "      <td>0.906308</td>\n",
       "      <td>-0.766044</td>\n",
       "      <td>233.6</td>\n",
       "      <td>0</td>\n",
       "      <td>0</td>\n",
       "      <td>0</td>\n",
       "      <td>0</td>\n",
       "      <td>0</td>\n",
       "      <td>1</td>\n",
       "      <td>0</td>\n",
       "      <td>0.0</td>\n",
       "    </tr>\n",
       "    <tr>\n",
       "      <th>1621</th>\n",
       "      <td>-0.887011</td>\n",
       "      <td>0.573576</td>\n",
       "      <td>-0.461749</td>\n",
       "      <td>0.819152</td>\n",
       "      <td>-0.994056</td>\n",
       "      <td>0.976296</td>\n",
       "      <td>-0.108867</td>\n",
       "      <td>0.216439</td>\n",
       "      <td>233.6</td>\n",
       "      <td>0</td>\n",
       "      <td>0</td>\n",
       "      <td>0</td>\n",
       "      <td>0</td>\n",
       "      <td>0</td>\n",
       "      <td>1</td>\n",
       "      <td>0</td>\n",
       "      <td>0.0</td>\n",
       "    </tr>\n",
       "  </tbody>\n",
       "</table>\n",
       "</div>"
      ],
      "text/plain": [
       "      deptime_inbound_cos2p  deptime_inbound_cos4p  deptime_inbound_sin2p  \\\n",
       "1617               0.422618              -0.642788              -0.906308   \n",
       "1618              -0.980785               0.923880               0.195090   \n",
       "1619              -0.980785               0.923880               0.195090   \n",
       "1620              -0.980785               0.923880               0.195090   \n",
       "1621              -0.887011               0.573576              -0.461749   \n",
       "\n",
       "      deptime_inbound_sin4p  deptime_outbound_cos2p  deptime_outbound_cos4p  \\\n",
       "1617              -0.766044               -0.422618               -0.642788   \n",
       "1618              -0.382683               -0.994056                0.976296   \n",
       "1619              -0.382683               -0.518773               -0.461748   \n",
       "1620              -0.382683               -0.422618               -0.642788   \n",
       "1621               0.819152               -0.994056                0.976296   \n",
       "\n",
       "      deptime_outbound_sin2p  deptime_outbound_sin4p  price_elasticity  \\\n",
       "1617                0.906308               -0.766044             248.6   \n",
       "1618               -0.108867                0.216439             217.6   \n",
       "1619               -0.854912                0.887011             217.6   \n",
       "1620                0.906308               -0.766044             233.6   \n",
       "1621               -0.108867                0.216439             233.6   \n",
       "\n",
       "      reco_contains_CX  reco_contains_MH  reco_contains_OD  reco_contains_PG  \\\n",
       "1617                 0                 0                 0                 0   \n",
       "1618                 0                 0                 0                 0   \n",
       "1619                 0                 0                 0                 0   \n",
       "1620                 0                 0                 0                 0   \n",
       "1621                 0                 0                 0                 0   \n",
       "\n",
       "      reco_contains_SQ  reco_contains_TG  reco_contains_VN  rescaled_reco_eft  \n",
       "1617                 0                 1                 0                0.0  \n",
       "1618                 0                 1                 0                0.0  \n",
       "1619                 0                 1                 0                0.0  \n",
       "1620                 0                 1                 0                0.0  \n",
       "1621                 0                 1                 0                0.0  "
      ]
     },
     "execution_count": 33,
     "metadata": {},
     "output_type": "execute_result"
    }
   ],
   "source": [
    "# Sample a session for test\n",
    "sample_session = df_test[df_test['session_id'] == 170326817]\n",
    "test_X = sample_session[TRAIN_CONFIG['MNL_features']]\n",
    "test_X.head()"
   ]
  },
  {
   "cell_type": "code",
   "execution_count": 34,
   "metadata": {},
   "outputs": [
    {
     "name": "stderr",
     "output_type": "stream",
     "text": [
      "/home/jovyan/UofT/Ideas/location/code/nmlogit/MNL.py:46: UserWarning: Implicit dimension choice for softmax has been deprecated. Change the call to include dim=X as an argument.\n",
      "  return torch.t(self.softmax(util_values))\n"
     ]
    },
    {
     "data": {
      "text/plain": [
       "array([ 2.77555756e-17,  3.46944695e-18,  1.73472348e-18,  6.93889390e-18,\n",
       "        6.93889390e-18,  2.77555756e-17,  3.46944695e-18, -6.93889390e-18,\n",
       "        1.38777878e-17,  3.46944695e-18,  8.67361738e-19,  1.38777878e-17,\n",
       "        6.93889390e-18,  3.46944695e-18,  3.46944695e-18,  3.46944695e-18,\n",
       "        2.77555756e-17,  3.46944695e-18,  6.93889390e-18,  3.46944695e-18,\n",
       "        6.93889390e-18,  3.30872245e-24,  5.16987883e-26,  3.23117427e-27,\n",
       "        8.67361738e-19,  8.67361738e-19,  6.93889390e-18,  3.46944695e-18,\n",
       "        6.61744490e-24,  1.03397577e-25,  6.46234854e-27,  8.47032947e-22,\n",
       "        1.69406589e-21,  3.38813179e-21,  6.77626358e-21,  8.47032947e-22,\n",
       "        4.23516474e-22,  1.69406589e-21,  8.47032947e-22,  6.77626358e-21,\n",
       "        4.23516474e-22,  3.38813179e-21,  3.38813179e-21,  6.77626358e-21,\n",
       "        8.47032947e-22,  3.38813179e-21,  1.69406589e-21,  4.23516474e-22,\n",
       "        0.00000000e+00,  6.77626358e-21,  1.69406589e-21,  3.38813179e-21,\n",
       "        2.11758237e-22,  3.38813179e-21,  6.77626358e-21,  3.38813179e-21,\n",
       "        8.47032947e-22,  2.11758237e-22,  3.38813179e-21,  2.11758237e-22])"
      ]
     },
     "execution_count": 34,
     "metadata": {},
     "output_type": "execute_result"
    }
   ],
   "source": [
    "# Compare the results given by the original model with Pytorch and\n",
    "#   the inference model without pytorch. \n",
    "\n",
    "# Note: there are some subtle differences which should be due to the fact\n",
    "#   that the precision provided by Pytorch and Pandas/Numpy libraries is different.\n",
    "inference_model.predict(test_X) - model.predict(test_X).reshape(-1)"
   ]
  },
  {
   "cell_type": "code",
   "execution_count": 319,
   "metadata": {},
   "outputs": [],
   "source": [
    "TRAIN_CONFIG = {\n",
    "    #'MNL_features': MNL_features,\n",
    "    \n",
    "    # when absent, by default, use all the features within the training data\n",
    "    #'alter_features': MNL_features,\n",
    "    #'session_features'\n",
    "    'alter_features':['reco_contains_mh', 'reco_contains_tg', 'reco_contains_pg', 'reco_contains_sq', 'reco_contains_vn', 'reco_contains_cx', 'reco_contains_od'],\n",
    "    'session_features':['deptime_outbound_sin2p', 'deptime_outbound_sin4p', 'deptime_outbound_cos2p', 'deptime_outbound_cos4p', 'deptime_inbound_sin2p', 'deptime_inbound_sin4p', 'deptime_inbound_cos2p', 'deptime_inbound_cos4p'],\n",
    "    'choice_groups':['group','group2'],\n",
    "    \n",
    "    # options: BinaryCrossEntropy, MaxLogLikelihood\n",
    "    #'loss':  'MaxLogLikelihood',\n",
    "    'loss':  'BinaryCrossEntropy',\n",
    "    \n",
    "    'expand': True,\n",
    "    \n",
    "    'optimizer': 'Adam',  # options:  Adam, RMSprop, SGD, LBFGS.\n",
    "    # Adam would converge much faster\n",
    "    # LBFGS is a very memory intensive optimizer (it requires additional param_bytes * (history_size + 1) bytes).\n",
    "    # If it doesn’t fit in memory try reducing the history size, or use a different algorithm.\n",
    "    # By default, history_size == 100\n",
    "    'learning_rate': 1e-3, # Applicable to Adam, SGD, and LBFGS\n",
    "    # The learning_rate parameter seems essential to LBFGS, which converges in two epochs.\n",
    "    #  So far, learning_rate == 0.1 seems to be ok for LBFGS\n",
    "    \n",
    "    #'momentum': 0.9,  # applicable to SGD, RMSprop\n",
    "    'momentum': 0,  # applicable to SGD, RMSprop\n",
    "    \n",
    "    # The resulting model seems to be more balanced, i.e. no extreme large/small weights,\n",
    "    #  although one might not have the most ideal performance, i.e. high top_5_rank etc.\n",
    "    'weight_decay': 0, # Applicable to Adam, RMSprop and SGD\n",
    "    \n",
    "    'epochs': 20,\n",
    "    'early_stop_min_delta': 1e-4,\n",
    "    'patience': 5,\n",
    "    \n",
    "    'gpu': False,  # luckily, running on GPU is faster than CPU in this case.\n",
    "    \n",
    "    # level of logging, 0: no log,  1: print epoch related logs;  2: print session related logs\n",
    "    'verbose': 2,\n",
    "    \n",
    "    # Adding the regularization degredates the performance of model\n",
    "    #   which might suggests that the model is still underfitting, not overfitting.\n",
    "    'l1_loss_weight': 0,  # e.g. 0.001 the regularization that would marginalize the weights\n",
    "    'l2_loss_weight': 0,\n",
    "    \n",
    "    # flag indicates whether to save gradients during the training\n",
    "    'save_gradients': False\n",
    "}\n"
   ]
  },
  {
   "cell_type": "code",
   "execution_count": 320,
   "metadata": {},
   "outputs": [],
   "source": [
    "alter_data = pd.read_csv('data/train_SINBKK_RT_B_alter_id.csv')\n",
    "session_data = pd.read_csv('data/train_SINBKK_RT_B_session_id.csv')\n",
    "choices = pd.read_csv('data/train_SINBKK_RT_B_choices.csv')"
   ]
  },
  {
   "cell_type": "code",
   "execution_count": 321,
   "metadata": {},
   "outputs": [
    {
     "name": "stdout",
     "output_type": "stream",
     "text": [
      "Num features: 15\n",
      "========================\n",
      "{'alter_features': ['reco_contains_mh', 'reco_contains_tg', 'reco_contains_pg', 'reco_contains_sq', 'reco_contains_vn', 'reco_contains_cx', 'reco_contains_od'], 'session_features': ['deptime_outbound_sin2p', 'deptime_outbound_sin4p', 'deptime_outbound_cos2p', 'deptime_outbound_cos4p', 'deptime_inbound_sin2p', 'deptime_inbound_sin4p', 'deptime_inbound_cos2p', 'deptime_inbound_cos4p'], 'choice_groups': ['group', 'group2'], 'loss': 'BinaryCrossEntropy', 'expand': True, 'optimizer': 'Adam', 'learning_rate': 0.001, 'momentum': 0, 'weight_decay': 0, 'epochs': 20, 'early_stop_min_delta': 0.0001, 'patience': 5, 'gpu': False, 'verbose': 1, 'l1_loss_weight': 0, 'l2_loss_weight': 0, 'save_gradients': False, 'MNL_features': ['deptime_outbound_sin2p', 'deptime_outbound_sin4p', 'deptime_outbound_cos2p', 'deptime_outbound_cos4p', 'deptime_inbound_sin2p', 'deptime_inbound_sin4p', 'deptime_inbound_cos2p', 'deptime_inbound_cos4p', 'reco_contains_mh', 'reco_contains_tg', 'reco_contains_pg', 'reco_contains_sq', 'reco_contains_vn', 'reco_contains_cx', 'reco_contains_od'], 'alternatives': {\"[1, 'hola']\": array([32, 31, 27, 41, 20, 55, 11, 25, 37,  4, 17, 58, 18, 22, 33, 44, 36,\n",
      "       52, 26, 39, 42, 49, 28,  6, 59, 47, 40, 54,  7,  3, 30, 57, 15, 16,\n",
      "       50,  9,  8,  0, 14, 45, 35, 19, 56, 24,  1, 29,  2, 48, 34, 46, 12,\n",
      "        5, 43, 23, 21, 38, 53, 51, 10, 13]), \"[2, 'hola']\": array([ 44,  53, 109,   9, 107,  16,  96,  41,  26,  59,  28,  39,  58,\n",
      "        42, 114,  27,  85, 116,  71,  55,  88,  17,  43,  65,  24,  99,\n",
      "       110,  67, 101,  82,  49,  97,  57,  32,  37,  73,  30,  79, 118,\n",
      "        11,  74,  62,  13, 111,  61, 100,  89,  93,  19,   8,  12,  81,\n",
      "        70,  90,  23,  51,   1, 112,  25,  52,  95,  50,  75,  10,  34,\n",
      "        36, 115,  15, 108,   3, 106,  86,  68,  35,  29,  87,  60,  47,\n",
      "        76,   5,  77,  69,   2,   6,  20,  31,   7,  14,  48,  78,  98,\n",
      "        40, 104, 117,   0, 103,  94,  18,  38,  91,  66, 119,  64,  83,\n",
      "        33,   4,  22,  80,  56,  92,  72,  63,  21,  46, 113, 102,  54,\n",
      "        84,  45, 105]), \"[4, 'hola']\": array([54, 10, 34, 19, 50, 58, 42, 27, 30, 28, 15,  8, 49, 21, 47, 56, 45,\n",
      "       23, 59, 48, 53, 35, 38, 36, 39,  5,  6, 14,  0, 33, 51,  2, 46, 43,\n",
      "        9, 12, 17,  1, 41, 57, 37, 44, 18, 32, 31, 20, 52, 29,  4, 11,  3,\n",
      "       13, 25, 22, 24, 26, 55, 16,  7, 40]), \"[3, 'hola']\": array([5, 7, 9, 6, 4, 1, 3, 0, 8, 2])}}\n",
      "========================\n"
     ]
    },
    {
     "name": "stderr",
     "output_type": "stream",
     "text": [
      "/home/jovyan/UofT/Ideas/location/code/nmlogit/MNL.py:46: UserWarning: Implicit dimension choice for softmax has been deprecated. Change the call to include dim=X as an argument.\n",
      "  return torch.t(self.softmax(util_values))\n",
      "/home/jovyan/UofT/Ideas/location/code/nmlogit/MNL.py:46: UserWarning: Implicit dimension choice for softmax has been deprecated. Change the call to include dim=X as an argument.\n",
      "  return torch.t(self.softmax(util_values))\n",
      "/home/jovyan/UofT/Ideas/location/code/nmlogit/MNL.py:46: UserWarning: Implicit dimension choice for softmax has been deprecated. Change the call to include dim=X as an argument.\n",
      "  return torch.t(self.softmax(util_values))\n",
      "/home/jovyan/UofT/Ideas/location/code/nmlogit/MNL.py:46: UserWarning: Implicit dimension choice for softmax has been deprecated. Change the call to include dim=X as an argument.\n",
      "  return torch.t(self.softmax(util_values))\n",
      "/home/jovyan/UofT/Ideas/location/code/nmlogit/MNL.py:46: UserWarning: Implicit dimension choice for softmax has been deprecated. Change the call to include dim=X as an argument.\n",
      "  return torch.t(self.softmax(util_values))\n",
      "/home/jovyan/UofT/Ideas/location/code/nmlogit/MNL.py:46: UserWarning: Implicit dimension choice for softmax has been deprecated. Change the call to include dim=X as an argument.\n",
      "  return torch.t(self.softmax(util_values))\n",
      "/home/jovyan/UofT/Ideas/location/code/nmlogit/MNL.py:46: UserWarning: Implicit dimension choice for softmax has been deprecated. Change the call to include dim=X as an argument.\n",
      "  return torch.t(self.softmax(util_values))\n",
      "/home/jovyan/UofT/Ideas/location/code/nmlogit/MNL.py:46: UserWarning: Implicit dimension choice for softmax has been deprecated. Change the call to include dim=X as an argument.\n",
      "  return torch.t(self.softmax(util_values))\n",
      "/home/jovyan/UofT/Ideas/location/code/nmlogit/MNL.py:46: UserWarning: Implicit dimension choice for softmax has been deprecated. Change the call to include dim=X as an argument.\n",
      "  return torch.t(self.softmax(util_values))\n",
      "/home/jovyan/UofT/Ideas/location/code/nmlogit/MNL.py:46: UserWarning: Implicit dimension choice for softmax has been deprecated. Change the call to include dim=X as an argument.\n",
      "  return torch.t(self.softmax(util_values))\n",
      "/home/jovyan/UofT/Ideas/location/code/nmlogit/MNL.py:46: UserWarning: Implicit dimension choice for softmax has been deprecated. Change the call to include dim=X as an argument.\n",
      "  return torch.t(self.softmax(util_values))\n",
      "/home/jovyan/UofT/Ideas/location/code/nmlogit/MNL.py:46: UserWarning: Implicit dimension choice for softmax has been deprecated. Change the call to include dim=X as an argument.\n",
      "  return torch.t(self.softmax(util_values))\n",
      "/home/jovyan/UofT/Ideas/location/code/nmlogit/MNL.py:46: UserWarning: Implicit dimension choice for softmax has been deprecated. Change the call to include dim=X as an argument.\n",
      "  return torch.t(self.softmax(util_values))\n",
      "/home/jovyan/UofT/Ideas/location/code/nmlogit/MNL.py:46: UserWarning: Implicit dimension choice for softmax has been deprecated. Change the call to include dim=X as an argument.\n",
      "  return torch.t(self.softmax(util_values))\n",
      "/home/jovyan/UofT/Ideas/location/code/nmlogit/MNL.py:46: UserWarning: Implicit dimension choice for softmax has been deprecated. Change the call to include dim=X as an argument.\n",
      "  return torch.t(self.softmax(util_values))\n",
      "/home/jovyan/UofT/Ideas/location/code/nmlogit/MNL.py:46: UserWarning: Implicit dimension choice for softmax has been deprecated. Change the call to include dim=X as an argument.\n",
      "  return torch.t(self.softmax(util_values))\n",
      "/home/jovyan/UofT/Ideas/location/code/nmlogit/MNL.py:46: UserWarning: Implicit dimension choice for softmax has been deprecated. Change the call to include dim=X as an argument.\n",
      "  return torch.t(self.softmax(util_values))\n",
      "/home/jovyan/UofT/Ideas/location/code/nmlogit/MNL.py:46: UserWarning: Implicit dimension choice for softmax has been deprecated. Change the call to include dim=X as an argument.\n",
      "  return torch.t(self.softmax(util_values))\n",
      "/home/jovyan/UofT/Ideas/location/code/nmlogit/MNL.py:46: UserWarning: Implicit dimension choice for softmax has been deprecated. Change the call to include dim=X as an argument.\n",
      "  return torch.t(self.softmax(util_values))\n",
      "/home/jovyan/UofT/Ideas/location/code/nmlogit/MNL.py:46: UserWarning: Implicit dimension choice for softmax has been deprecated. Change the call to include dim=X as an argument.\n",
      "  return torch.t(self.softmax(util_values))\n",
      "/home/jovyan/UofT/Ideas/location/code/nmlogit/MNL.py:46: UserWarning: Implicit dimension choice for softmax has been deprecated. Change the call to include dim=X as an argument.\n",
      "  return torch.t(self.softmax(util_values))\n",
      "/home/jovyan/UofT/Ideas/location/code/nmlogit/MNL.py:46: UserWarning: Implicit dimension choice for softmax has been deprecated. Change the call to include dim=X as an argument.\n",
      "  return torch.t(self.softmax(util_values))\n",
      "/home/jovyan/UofT/Ideas/location/code/nmlogit/MNL.py:46: UserWarning: Implicit dimension choice for softmax has been deprecated. Change the call to include dim=X as an argument.\n",
      "  return torch.t(self.softmax(util_values))\n",
      "/home/jovyan/UofT/Ideas/location/code/nmlogit/MNL.py:46: UserWarning: Implicit dimension choice for softmax has been deprecated. Change the call to include dim=X as an argument.\n",
      "  return torch.t(self.softmax(util_values))\n",
      "/home/jovyan/UofT/Ideas/location/code/nmlogit/MNL.py:46: UserWarning: Implicit dimension choice for softmax has been deprecated. Change the call to include dim=X as an argument.\n",
      "  return torch.t(self.softmax(util_values))\n",
      "/home/jovyan/UofT/Ideas/location/code/nmlogit/MNL.py:46: UserWarning: Implicit dimension choice for softmax has been deprecated. Change the call to include dim=X as an argument.\n",
      "  return torch.t(self.softmax(util_values))\n",
      "/home/jovyan/UofT/Ideas/location/code/nmlogit/MNL.py:46: UserWarning: Implicit dimension choice for softmax has been deprecated. Change the call to include dim=X as an argument.\n",
      "  return torch.t(self.softmax(util_values))\n",
      "/home/jovyan/UofT/Ideas/location/code/nmlogit/MNL.py:46: UserWarning: Implicit dimension choice for softmax has been deprecated. Change the call to include dim=X as an argument.\n",
      "  return torch.t(self.softmax(util_values))\n",
      "/home/jovyan/UofT/Ideas/location/code/nmlogit/MNL.py:46: UserWarning: Implicit dimension choice for softmax has been deprecated. Change the call to include dim=X as an argument.\n",
      "  return torch.t(self.softmax(util_values))\n",
      "/home/jovyan/UofT/Ideas/location/code/nmlogit/MNL.py:46: UserWarning: Implicit dimension choice for softmax has been deprecated. Change the call to include dim=X as an argument.\n",
      "  return torch.t(self.softmax(util_values))\n",
      "/home/jovyan/UofT/Ideas/location/code/nmlogit/MNL.py:46: UserWarning: Implicit dimension choice for softmax has been deprecated. Change the call to include dim=X as an argument.\n",
      "  return torch.t(self.softmax(util_values))\n",
      "/home/jovyan/UofT/Ideas/location/code/nmlogit/MNL.py:46: UserWarning: Implicit dimension choice for softmax has been deprecated. Change the call to include dim=X as an argument.\n",
      "  return torch.t(self.softmax(util_values))\n",
      "/home/jovyan/UofT/Ideas/location/code/nmlogit/MNL.py:46: UserWarning: Implicit dimension choice for softmax has been deprecated. Change the call to include dim=X as an argument.\n",
      "  return torch.t(self.softmax(util_values))\n",
      "/home/jovyan/UofT/Ideas/location/code/nmlogit/MNL.py:46: UserWarning: Implicit dimension choice for softmax has been deprecated. Change the call to include dim=X as an argument.\n",
      "  return torch.t(self.softmax(util_values))\n",
      "/home/jovyan/UofT/Ideas/location/code/nmlogit/MNL.py:46: UserWarning: Implicit dimension choice for softmax has been deprecated. Change the call to include dim=X as an argument.\n",
      "  return torch.t(self.softmax(util_values))\n",
      "/home/jovyan/UofT/Ideas/location/code/nmlogit/MNL.py:46: UserWarning: Implicit dimension choice for softmax has been deprecated. Change the call to include dim=X as an argument.\n",
      "  return torch.t(self.softmax(util_values))\n",
      "/home/jovyan/UofT/Ideas/location/code/nmlogit/MNL.py:46: UserWarning: Implicit dimension choice for softmax has been deprecated. Change the call to include dim=X as an argument.\n",
      "  return torch.t(self.softmax(util_values))\n",
      "/home/jovyan/UofT/Ideas/location/code/nmlogit/MNL.py:46: UserWarning: Implicit dimension choice for softmax has been deprecated. Change the call to include dim=X as an argument.\n",
      "  return torch.t(self.softmax(util_values))\n",
      "/home/jovyan/UofT/Ideas/location/code/nmlogit/MNL.py:46: UserWarning: Implicit dimension choice for softmax has been deprecated. Change the call to include dim=X as an argument.\n",
      "  return torch.t(self.softmax(util_values))\n",
      "/home/jovyan/UofT/Ideas/location/code/nmlogit/MNL.py:46: UserWarning: Implicit dimension choice for softmax has been deprecated. Change the call to include dim=X as an argument.\n",
      "  return torch.t(self.softmax(util_values))\n",
      "/home/jovyan/UofT/Ideas/location/code/nmlogit/MNL.py:46: UserWarning: Implicit dimension choice for softmax has been deprecated. Change the call to include dim=X as an argument.\n",
      "  return torch.t(self.softmax(util_values))\n",
      "/home/jovyan/UofT/Ideas/location/code/nmlogit/MNL.py:46: UserWarning: Implicit dimension choice for softmax has been deprecated. Change the call to include dim=X as an argument.\n",
      "  return torch.t(self.softmax(util_values))\n",
      "/home/jovyan/UofT/Ideas/location/code/nmlogit/MNL.py:46: UserWarning: Implicit dimension choice for softmax has been deprecated. Change the call to include dim=X as an argument.\n",
      "  return torch.t(self.softmax(util_values))\n",
      "/home/jovyan/UofT/Ideas/location/code/nmlogit/MNL.py:46: UserWarning: Implicit dimension choice for softmax has been deprecated. Change the call to include dim=X as an argument.\n",
      "  return torch.t(self.softmax(util_values))\n",
      "/home/jovyan/UofT/Ideas/location/code/nmlogit/MNL.py:46: UserWarning: Implicit dimension choice for softmax has been deprecated. Change the call to include dim=X as an argument.\n",
      "  return torch.t(self.softmax(util_values))\n",
      "/home/jovyan/UofT/Ideas/location/code/nmlogit/MNL.py:46: UserWarning: Implicit dimension choice for softmax has been deprecated. Change the call to include dim=X as an argument.\n",
      "  return torch.t(self.softmax(util_values))\n",
      "/home/jovyan/UofT/Ideas/location/code/nmlogit/MNL.py:46: UserWarning: Implicit dimension choice for softmax has been deprecated. Change the call to include dim=X as an argument.\n",
      "  return torch.t(self.softmax(util_values))\n",
      "/home/jovyan/UofT/Ideas/location/code/nmlogit/MNL.py:46: UserWarning: Implicit dimension choice for softmax has been deprecated. Change the call to include dim=X as an argument.\n",
      "  return torch.t(self.softmax(util_values))\n",
      "/home/jovyan/UofT/Ideas/location/code/nmlogit/MNL.py:46: UserWarning: Implicit dimension choice for softmax has been deprecated. Change the call to include dim=X as an argument.\n",
      "  return torch.t(self.softmax(util_values))\n",
      "/home/jovyan/UofT/Ideas/location/code/nmlogit/MNL.py:46: UserWarning: Implicit dimension choice for softmax has been deprecated. Change the call to include dim=X as an argument.\n",
      "  return torch.t(self.softmax(util_values))\n",
      "/home/jovyan/UofT/Ideas/location/code/nmlogit/MNL.py:46: UserWarning: Implicit dimension choice for softmax has been deprecated. Change the call to include dim=X as an argument.\n",
      "  return torch.t(self.softmax(util_values))\n",
      "/home/jovyan/UofT/Ideas/location/code/nmlogit/MNL.py:46: UserWarning: Implicit dimension choice for softmax has been deprecated. Change the call to include dim=X as an argument.\n",
      "  return torch.t(self.softmax(util_values))\n",
      "/home/jovyan/UofT/Ideas/location/code/nmlogit/MNL.py:46: UserWarning: Implicit dimension choice for softmax has been deprecated. Change the call to include dim=X as an argument.\n",
      "  return torch.t(self.softmax(util_values))\n",
      "/home/jovyan/UofT/Ideas/location/code/nmlogit/MNL.py:46: UserWarning: Implicit dimension choice for softmax has been deprecated. Change the call to include dim=X as an argument.\n",
      "  return torch.t(self.softmax(util_values))\n",
      "/home/jovyan/UofT/Ideas/location/code/nmlogit/MNL.py:46: UserWarning: Implicit dimension choice for softmax has been deprecated. Change the call to include dim=X as an argument.\n",
      "  return torch.t(self.softmax(util_values))\n",
      "/home/jovyan/UofT/Ideas/location/code/nmlogit/MNL.py:46: UserWarning: Implicit dimension choice for softmax has been deprecated. Change the call to include dim=X as an argument.\n",
      "  return torch.t(self.softmax(util_values))\n"
     ]
    },
    {
     "ename": "RuntimeError",
     "evalue": "Assertion `x >= 0. && x <= 1.' failed. input value should be between 0~1, but got nan at /opt/conda/conda-bld/pytorch_1579022027550/work/aten/src/THNN/generic/BCECriterion.c:62",
     "output_type": "error",
     "traceback": [
      "\u001b[0;31m\u001b[0m",
      "\u001b[0;31mRuntimeError\u001b[0mTraceback (most recent call last)",
      "\u001b[0;32m<ipython-input-321-7bff66bcdf09>\u001b[0m in \u001b[0;36m<module>\u001b[0;34m\u001b[0m\n\u001b[0;32m----> 1\u001b[0;31m \u001b[0mmodel_tuple\u001b[0m\u001b[0;34m,\u001b[0m \u001b[0mloss_list\u001b[0m \u001b[0;34m=\u001b[0m \u001b[0mrun_training\u001b[0m\u001b[0;34m(\u001b[0m\u001b[0mdf_training\u001b[0m\u001b[0;34m=\u001b[0m\u001b[0mchoices\u001b[0m\u001b[0;34m,\u001b[0m \u001b[0mtrain_config\u001b[0m\u001b[0;34m=\u001b[0m\u001b[0mTRAIN_CONFIG\u001b[0m\u001b[0;34m,\u001b[0m \u001b[0malter_data\u001b[0m\u001b[0;34m=\u001b[0m\u001b[0malter_data\u001b[0m\u001b[0;34m,\u001b[0m \u001b[0msession_data\u001b[0m\u001b[0;34m=\u001b[0m\u001b[0msession_data\u001b[0m\u001b[0;34m)\u001b[0m\u001b[0;34m\u001b[0m\u001b[0;34m\u001b[0m\u001b[0m\n\u001b[0m",
      "\u001b[0;32m~/UofT/Ideas/location/code/nmlogit/MNL_plus.py\u001b[0m in \u001b[0;36mrun_training\u001b[0;34m(df_training, train_config, alter_data, session_data, model_tuple)\u001b[0m\n\u001b[1;32m    338\u001b[0m     \u001b[0mdf_session_groups\u001b[0m \u001b[0;34m=\u001b[0m \u001b[0mdf_training\u001b[0m\u001b[0;34m.\u001b[0m\u001b[0mgroupby\u001b[0m\u001b[0;34m(\u001b[0m\u001b[0;34m'session_id'\u001b[0m\u001b[0;34m)\u001b[0m\u001b[0;34m\u001b[0m\u001b[0;34m\u001b[0m\u001b[0m\n\u001b[1;32m    339\u001b[0m     \u001b[0;32mif\u001b[0m \u001b[0;34m(\u001b[0m\u001b[0mexpand\u001b[0m\u001b[0;34m)\u001b[0m\u001b[0;34m:\u001b[0m\u001b[0;34m\u001b[0m\u001b[0;34m\u001b[0m\u001b[0m\n\u001b[0;32m--> 340\u001b[0;31m         loss_list = train_with_early_stopping(model_tuple=model_tuple, train_data=df_session_groups, train_config=train_config,\n\u001b[0m\u001b[1;32m    341\u001b[0m                                               alter_data=alter_data, session_data=session_data)\n\u001b[1;32m    342\u001b[0m     \u001b[0;32melse\u001b[0m\u001b[0;34m:\u001b[0m\u001b[0;34m\u001b[0m\u001b[0;34m\u001b[0m\u001b[0m\n",
      "\u001b[0;32m~/UofT/Ideas/location/code/nmlogit/MNL_plus.py\u001b[0m in \u001b[0;36mtrain_with_early_stopping\u001b[0;34m(model_tuple, train_data, alter_data, session_data, train_config)\u001b[0m\n\u001b[1;32m    218\u001b[0m     \u001b[0;32mfor\u001b[0m \u001b[0mepoch\u001b[0m \u001b[0;32min\u001b[0m \u001b[0mrange\u001b[0m\u001b[0;34m(\u001b[0m\u001b[0mepochs\u001b[0m\u001b[0;34m)\u001b[0m\u001b[0;34m:\u001b[0m\u001b[0;34m\u001b[0m\u001b[0;34m\u001b[0m\u001b[0m\n\u001b[1;32m    219\u001b[0m         \u001b[0;32mif\u001b[0m \u001b[0;34m(\u001b[0m\u001b[0mexpand\u001b[0m\u001b[0;34m)\u001b[0m\u001b[0;34m:\u001b[0m\u001b[0;34m\u001b[0m\u001b[0;34m\u001b[0m\u001b[0m\n\u001b[0;32m--> 220\u001b[0;31m             epoch_loss = train_one_epoch(epoch_index=epoch, module_tuple=model_tuple, df_session_groups=train_data, train_config=train_config,\n\u001b[0m\u001b[1;32m    221\u001b[0m                                          alter_data=alter_data, session_data=session_data)\n\u001b[1;32m    222\u001b[0m         \u001b[0;32melse\u001b[0m\u001b[0;34m:\u001b[0m\u001b[0;34m\u001b[0m\u001b[0;34m\u001b[0m\u001b[0m\n",
      "\u001b[0;32m~/UofT/Ideas/location/code/nmlogit/MNL_plus.py\u001b[0m in \u001b[0;36mtrain_one_epoch\u001b[0;34m(epoch_index, module_tuple, df_session_groups, alter_data, session_data, train_config)\u001b[0m\n\u001b[1;32m    167\u001b[0m \u001b[0;34m\u001b[0m\u001b[0m\n\u001b[1;32m    168\u001b[0m         \u001b[0;32mtry\u001b[0m\u001b[0;34m:\u001b[0m\u001b[0;34m\u001b[0m\u001b[0;34m\u001b[0m\u001b[0m\n\u001b[0;32m--> 169\u001b[0;31m             cost = model.train(loss, optimizer,\n\u001b[0m\u001b[1;32m    170\u001b[0m                                \u001b[0mdf_session\u001b[0m\u001b[0;34m[\u001b[0m\u001b[0mMNL_features\u001b[0m\u001b[0;34m]\u001b[0m\u001b[0;34m.\u001b[0m\u001b[0mvalues\u001b[0m\u001b[0;34m,\u001b[0m\u001b[0;34m\u001b[0m\u001b[0;34m\u001b[0m\u001b[0m\n\u001b[1;32m    171\u001b[0m                                \u001b[0mdf_session\u001b[0m\u001b[0;34m[\u001b[0m\u001b[0;34m'choice'\u001b[0m\u001b[0;34m]\u001b[0m\u001b[0;34m.\u001b[0m\u001b[0mvalues\u001b[0m\u001b[0;34m,\u001b[0m\u001b[0;34m\u001b[0m\u001b[0;34m\u001b[0m\u001b[0m\n",
      "\u001b[0;32m~/UofT/Ideas/location/code/nmlogit/MNL.py\u001b[0m in \u001b[0;36mtrain\u001b[0;34m(self, loss, optimizer, x_val, y_val, l1_loss_weight, l2_loss_weight, gpu)\u001b[0m\n\u001b[1;32m     96\u001b[0m         \u001b[0;31m# Forward to calculate the losses\u001b[0m\u001b[0;34m\u001b[0m\u001b[0;34m\u001b[0m\u001b[0;34m\u001b[0m\u001b[0m\n\u001b[1;32m     97\u001b[0m         \u001b[0mfx\u001b[0m \u001b[0;34m=\u001b[0m \u001b[0mself\u001b[0m\u001b[0;34m.\u001b[0m\u001b[0mforward\u001b[0m\u001b[0;34m(\u001b[0m\u001b[0mx\u001b[0m\u001b[0;34m)\u001b[0m\u001b[0;34m\u001b[0m\u001b[0;34m\u001b[0m\u001b[0m\n\u001b[0;32m---> 98\u001b[0;31m         \u001b[0mdata_loss\u001b[0m \u001b[0;34m=\u001b[0m \u001b[0mloss\u001b[0m\u001b[0;34m.\u001b[0m\u001b[0mforward\u001b[0m\u001b[0;34m(\u001b[0m\u001b[0mfx\u001b[0m\u001b[0;34m,\u001b[0m \u001b[0my\u001b[0m\u001b[0;34m)\u001b[0m\u001b[0;34m\u001b[0m\u001b[0;34m\u001b[0m\u001b[0m\n\u001b[0m\u001b[1;32m     99\u001b[0m \u001b[0;34m\u001b[0m\u001b[0m\n\u001b[1;32m    100\u001b[0m         \u001b[0;31m# optional: add L1 or L2 penalities for regularization\u001b[0m\u001b[0;34m\u001b[0m\u001b[0;34m\u001b[0m\u001b[0;34m\u001b[0m\u001b[0m\n",
      "\u001b[0;32m/opt/conda/lib/python3.8/site-packages/torch/nn/modules/loss.py\u001b[0m in \u001b[0;36mforward\u001b[0;34m(self, input, target)\u001b[0m\n\u001b[1;32m    496\u001b[0m \u001b[0;34m\u001b[0m\u001b[0m\n\u001b[1;32m    497\u001b[0m     \u001b[0;32mdef\u001b[0m \u001b[0mforward\u001b[0m\u001b[0;34m(\u001b[0m\u001b[0mself\u001b[0m\u001b[0;34m,\u001b[0m \u001b[0minput\u001b[0m\u001b[0;34m,\u001b[0m \u001b[0mtarget\u001b[0m\u001b[0;34m)\u001b[0m\u001b[0;34m:\u001b[0m\u001b[0;34m\u001b[0m\u001b[0;34m\u001b[0m\u001b[0m\n\u001b[0;32m--> 498\u001b[0;31m         \u001b[0;32mreturn\u001b[0m \u001b[0mF\u001b[0m\u001b[0;34m.\u001b[0m\u001b[0mbinary_cross_entropy\u001b[0m\u001b[0;34m(\u001b[0m\u001b[0minput\u001b[0m\u001b[0;34m,\u001b[0m \u001b[0mtarget\u001b[0m\u001b[0;34m,\u001b[0m \u001b[0mweight\u001b[0m\u001b[0;34m=\u001b[0m\u001b[0mself\u001b[0m\u001b[0;34m.\u001b[0m\u001b[0mweight\u001b[0m\u001b[0;34m,\u001b[0m \u001b[0mreduction\u001b[0m\u001b[0;34m=\u001b[0m\u001b[0mself\u001b[0m\u001b[0;34m.\u001b[0m\u001b[0mreduction\u001b[0m\u001b[0;34m)\u001b[0m\u001b[0;34m\u001b[0m\u001b[0;34m\u001b[0m\u001b[0m\n\u001b[0m\u001b[1;32m    499\u001b[0m \u001b[0;34m\u001b[0m\u001b[0m\n\u001b[1;32m    500\u001b[0m \u001b[0;34m\u001b[0m\u001b[0m\n",
      "\u001b[0;32m/opt/conda/lib/python3.8/site-packages/torch/nn/functional.py\u001b[0m in \u001b[0;36mbinary_cross_entropy\u001b[0;34m(input, target, weight, size_average, reduce, reduction)\u001b[0m\n\u001b[1;32m   2074\u001b[0m         \u001b[0mweight\u001b[0m \u001b[0;34m=\u001b[0m \u001b[0mweight\u001b[0m\u001b[0;34m.\u001b[0m\u001b[0mexpand\u001b[0m\u001b[0;34m(\u001b[0m\u001b[0mnew_size\u001b[0m\u001b[0;34m)\u001b[0m\u001b[0;34m\u001b[0m\u001b[0;34m\u001b[0m\u001b[0m\n\u001b[1;32m   2075\u001b[0m \u001b[0;34m\u001b[0m\u001b[0m\n\u001b[0;32m-> 2076\u001b[0;31m     return torch._C._nn.binary_cross_entropy(\n\u001b[0m\u001b[1;32m   2077\u001b[0m         input, target, weight, reduction_enum)\n\u001b[1;32m   2078\u001b[0m \u001b[0;34m\u001b[0m\u001b[0m\n",
      "\u001b[0;31mRuntimeError\u001b[0m: Assertion `x >= 0. && x <= 1.' failed. input value should be between 0~1, but got nan at /opt/conda/conda-bld/pytorch_1579022027550/work/aten/src/THNN/generic/BCECriterion.c:62"
     ]
    }
   ],
   "source": [
    "model_tuple, loss_list = run_training(df_training=choices, train_config=TRAIN_CONFIG, alter_data=alter_data, session_data=session_data)"
   ]
  },
  {
   "cell_type": "code",
   "execution_count": 310,
   "metadata": {},
   "outputs": [],
   "source": [
    "all_alternatives = TRAIN_CONFIG.get('alternatives',[])"
   ]
  },
  {
   "cell_type": "code",
   "execution_count": 311,
   "metadata": {},
   "outputs": [
    {
     "data": {
      "text/plain": [
       "{\"[1, 'hola']\": array([32, 31, 27, 41, 20, 55, 11, 25, 37,  4, 17, 58, 18, 22, 33, 44, 36,\n",
       "        52, 26, 39, 42, 49, 28,  6, 59, 47, 40, 54,  7,  3, 30, 57, 15, 16,\n",
       "        50,  9,  8,  0, 14, 45, 35, 19, 56, 24,  1, 29,  2, 48, 34, 46, 12,\n",
       "         5, 43, 23, 21, 38, 53, 51, 10, 13]),\n",
       " \"[2, 'hola']\": array([ 44,  53, 109,   9, 107,  16,  96,  41,  26,  59,  28,  39,  58,\n",
       "         42, 114,  27,  85, 116,  71,  55,  88,  17,  43,  65,  24,  99,\n",
       "        110,  67, 101,  82,  49,  97,  57,  32,  37,  73,  30,  79, 118,\n",
       "         11,  74,  62,  13, 111,  61, 100,  89,  93,  19,   8,  12,  81,\n",
       "         70,  90,  23,  51,   1, 112,  25,  52,  95,  50,  75,  10,  34,\n",
       "         36, 115,  15, 108,   3, 106,  86,  68,  35,  29,  87,  60,  47,\n",
       "         76,   5,  77,  69,   2,   6,  20,  31,   7,  14,  48,  78,  98,\n",
       "         40, 104, 117,   0, 103,  94,  18,  38,  91,  66, 119,  64,  83,\n",
       "         33,   4,  22,  80,  56,  92,  72,  63,  21,  46, 113, 102,  54,\n",
       "         84,  45, 105]),\n",
       " \"[4, 'hola']\": array([54, 10, 34, 19, 50, 58, 42, 27, 30, 28, 15,  8, 49, 21, 47, 56, 45,\n",
       "        23, 59, 48, 53, 35, 38, 36, 39,  5,  6, 14,  0, 33, 51,  2, 46, 43,\n",
       "         9, 12, 17,  1, 41, 57, 37, 44, 18, 32, 31, 20, 52, 29,  4, 11,  3,\n",
       "        13, 25, 22, 24, 26, 55, 16,  7, 40]),\n",
       " \"[3, 'hola']\": array([5, 7, 9, 6, 4, 1, 3, 0, 8, 2])}"
      ]
     },
     "execution_count": 311,
     "metadata": {},
     "output_type": "execute_result"
    }
   ],
   "source": [
    "all_alternatives"
   ]
  },
  {
   "cell_type": "code",
   "execution_count": 289,
   "metadata": {},
   "outputs": [],
   "source": [
    "choice_groups.extend(['alter_id'])"
   ]
  },
  {
   "cell_type": "code",
   "execution_count": 290,
   "metadata": {},
   "outputs": [
    {
     "data": {
      "text/plain": [
       "['group', 'group2', 'alter_id', 'alter_id', 'alter_id']"
      ]
     },
     "execution_count": 290,
     "metadata": {},
     "output_type": "execute_result"
    }
   ],
   "source": [
    "choice_groups"
   ]
  },
  {
   "cell_type": "code",
   "execution_count": 248,
   "metadata": {},
   "outputs": [
    {
     "data": {
      "text/plain": [
       "array([53, 58, 52, 39, 18, 46, 20,  9, 50,  7, 30, 43, 35, 42, 25, 33, 44,\n",
       "       37, 15, 11,  0, 12, 17, 36,  3,  5, 59,  6, 55, 34, 10, 40, 49, 21,\n",
       "        2,  1, 47, 26,  4, 54, 27, 56, 14, 22, 51, 13, 41, 16, 32, 28,  8,\n",
       "       23, 48, 19, 57, 45, 24, 29, 38, 31])"
      ]
     },
     "execution_count": 248,
     "metadata": {},
     "output_type": "execute_result"
    }
   ],
   "source": [
    "all_alternatives[repr([1,'hola'])]"
   ]
  },
  {
   "cell_type": "code",
   "execution_count": 168,
   "metadata": {},
   "outputs": [],
   "source": [
    "unique_values = choices[choice_groups].drop_duplicates()"
   ]
  },
  {
   "cell_type": "code",
   "execution_count": 166,
   "metadata": {},
   "outputs": [
    {
     "data": {
      "text/html": [
       "<div>\n",
       "<style scoped>\n",
       "    .dataframe tbody tr th:only-of-type {\n",
       "        vertical-align: middle;\n",
       "    }\n",
       "\n",
       "    .dataframe tbody tr th {\n",
       "        vertical-align: top;\n",
       "    }\n",
       "\n",
       "    .dataframe thead th {\n",
       "        text-align: right;\n",
       "    }\n",
       "</style>\n",
       "<table border=\"1\" class=\"dataframe\">\n",
       "  <thead>\n",
       "    <tr style=\"text-align: right;\">\n",
       "      <th></th>\n",
       "      <th>group</th>\n",
       "      <th>group2</th>\n",
       "    </tr>\n",
       "  </thead>\n",
       "  <tbody>\n",
       "    <tr>\n",
       "      <th>0</th>\n",
       "      <td>1</td>\n",
       "      <td>hola</td>\n",
       "    </tr>\n",
       "    <tr>\n",
       "      <th>1947</th>\n",
       "      <td>2</td>\n",
       "      <td>hola</td>\n",
       "    </tr>\n",
       "    <tr>\n",
       "      <th>3894</th>\n",
       "      <td>4</td>\n",
       "      <td>hola</td>\n",
       "    </tr>\n",
       "    <tr>\n",
       "      <th>5841</th>\n",
       "      <td>3</td>\n",
       "      <td>hola</td>\n",
       "    </tr>\n",
       "  </tbody>\n",
       "</table>\n",
       "</div>"
      ],
      "text/plain": [
       "      group group2\n",
       "0         1   hola\n",
       "1947      2   hola\n",
       "3894      4   hola\n",
       "5841      3   hola"
      ]
     },
     "execution_count": 166,
     "metadata": {},
     "output_type": "execute_result"
    }
   ],
   "source": [
    "unique_values"
   ]
  },
  {
   "cell_type": "code",
   "execution_count": 187,
   "metadata": {},
   "outputs": [
    {
     "data": {
      "text/plain": [
       "True"
      ]
     },
     "execution_count": 187,
     "metadata": {},
     "output_type": "execute_result"
    }
   ],
   "source": [
    "type(unique_values.iloc[groupcombo][var])==str"
   ]
  },
  {
   "cell_type": "code",
   "execution_count": 206,
   "metadata": {},
   "outputs": [
    {
     "data": {
      "text/plain": [
       "[1, 'hola']"
      ]
     },
     "execution_count": 206,
     "metadata": {},
     "output_type": "execute_result"
    }
   ],
   "source": []
  },
  {
   "cell_type": "code",
   "execution_count": 212,
   "metadata": {},
   "outputs": [],
   "source": [
    "aunique_values = choices[choice_groups].drop_duplicates()\n",
    "alternatives = {}\n",
    "for groupcombo in range(0,len(unique_values)):\n",
    "    cond = ''\n",
    "    for var in choice_groups:\n",
    "        equalto = unique_values.iloc[groupcombo][var]\n",
    "        if type(equalto)==str:\n",
    "            equalto = '\"' + equalto + '\"'\n",
    "        if cond == '':\n",
    "            cond = cond + var + '==' + str(equalto)\n",
    "        else:\n",
    "            cond = cond + ' & ' + var + '==' + str(equalto)\n",
    "    # this assumes that all neighborhoods with no firm are not part of the choice set\n",
    "    alternatives[repr(df_training.iloc[groupcombo].values.tolist())] = choices.query(cond).alter_id.unique()"
   ]
  },
  {
   "cell_type": "code",
   "execution_count": 213,
   "metadata": {},
   "outputs": [
    {
     "data": {
      "text/plain": [
       "{\"[1, 'hola']\": array([53, 58, 52, 39, 18, 46, 20,  9, 50,  7, 30, 43, 35, 42, 25, 33, 44,\n",
       "        37, 15, 11,  0, 12, 17, 36,  3,  5, 59,  6, 55, 34, 10, 40, 49, 21,\n",
       "         2,  1, 47, 26,  4, 54, 27, 56, 14, 22, 51, 13, 41, 16, 32, 28,  8,\n",
       "        23, 48, 19, 57, 45, 24, 29, 38, 31]),\n",
       " \"[2, 'hola']\": array([ 59, 108,  63,  48,  91,  17,  37, 118,  93,  71, 111, 104,  28,\n",
       "         12,  94,  29, 107,  44,  85, 115,  99,  23,  32,  83, 106,  53,\n",
       "         87,  88, 109,  89,  81,  21, 101, 114,  42,  64,  43,  75,  52,\n",
       "         47,   9, 117,  20,   5,  30,  65,  97,  72,  18,  38,  25,  73,\n",
       "         19,  41,  69,   7, 100,  55,  31,  70,  40,  58,  60,  67,  74,\n",
       "         11,  62,  16,  76,   1,  36,   8,  46, 102, 112,   6,  82,  39,\n",
       "         15,  26,  33,  51,  92,   2,   0,  95,  49,  14,  35, 116,  57,\n",
       "        119, 105,  96,  24,  34,  68,   3,  86,  79,  80,  22, 113,  56,\n",
       "         13,  66,   4,  27,  54,  77,  78, 110, 103,  98,  84,  45,  50,\n",
       "         61,  90,  10]),\n",
       " \"[4, 'hola']\": array([57, 38,  2, 49, 28, 47, 45, 10,  4, 51, 41, 44,  8, 37, 50, 16, 58,\n",
       "        35, 25,  6, 12, 29, 55, 19, 30, 48, 20,  7, 56, 23, 22,  0, 40, 15,\n",
       "        33, 24, 46, 27,  3, 39, 17, 43,  1, 34, 11, 14, 32, 21, 42, 53,  9,\n",
       "        59, 36, 13, 31, 18,  5, 52, 54, 26]),\n",
       " \"[3, 'hola']\": array([6, 3, 5, 9, 8, 2, 4, 0, 1, 7])}"
      ]
     },
     "execution_count": 213,
     "metadata": {},
     "output_type": "execute_result"
    }
   ],
   "source": [
    "alternatives"
   ]
  },
  {
   "cell_type": "code",
   "execution_count": 132,
   "metadata": {},
   "outputs": [],
   "source": [
    "unique_values = choices[['group']].drop_duplicates()\n"
   ]
  },
  {
   "cell_type": "code",
   "execution_count": 133,
   "metadata": {},
   "outputs": [
    {
     "data": {
      "text/html": [
       "<div>\n",
       "<style scoped>\n",
       "    .dataframe tbody tr th:only-of-type {\n",
       "        vertical-align: middle;\n",
       "    }\n",
       "\n",
       "    .dataframe tbody tr th {\n",
       "        vertical-align: top;\n",
       "    }\n",
       "\n",
       "    .dataframe thead th {\n",
       "        text-align: right;\n",
       "    }\n",
       "</style>\n",
       "<table border=\"1\" class=\"dataframe\">\n",
       "  <thead>\n",
       "    <tr style=\"text-align: right;\">\n",
       "      <th></th>\n",
       "      <th>group</th>\n",
       "    </tr>\n",
       "  </thead>\n",
       "  <tbody>\n",
       "    <tr>\n",
       "      <th>0</th>\n",
       "      <td>1</td>\n",
       "    </tr>\n",
       "    <tr>\n",
       "      <th>1947</th>\n",
       "      <td>2</td>\n",
       "    </tr>\n",
       "    <tr>\n",
       "      <th>3894</th>\n",
       "      <td>4</td>\n",
       "    </tr>\n",
       "    <tr>\n",
       "      <th>5841</th>\n",
       "      <td>3</td>\n",
       "    </tr>\n",
       "  </tbody>\n",
       "</table>\n",
       "</div>"
      ],
      "text/plain": [
       "      group\n",
       "0         1\n",
       "1947      2\n",
       "3894      4\n",
       "5841      3"
      ]
     },
     "execution_count": 133,
     "metadata": {},
     "output_type": "execute_result"
    }
   ],
   "source": [
    "unique_values"
   ]
  },
  {
   "cell_type": "code",
   "execution_count": 134,
   "metadata": {},
   "outputs": [],
   "source": [
    "        for group in unique_values:\n",
    "            cond = ''\n",
    "            for var in choice_groups:\n",
    "                if cond == '':\n",
    "                    cond = cond + var + '==' + str(unique_values[group].values[0])\n",
    "                else:\n",
    "                    cond = cond + ' & ' + var + '==' + str(unique_values[group].values[0])\n"
   ]
  },
  {
   "cell_type": "code",
   "execution_count": 136,
   "metadata": {},
   "outputs": [],
   "source": [
    "        for groupcombo in unique_values:\n",
    "            cond = ''\n",
    "            for var in choice_groups:\n",
    "                if cond == '':\n",
    "                    cond = cond + var + '==' + str(unique_values[groupcombo].values[0])\n",
    "                else:\n",
    "                    cond = cond + ' & ' + var + '==' + str(unique_values[groupcombo].values[0])"
   ]
  },
  {
   "cell_type": "code",
   "execution_count": 140,
   "metadata": {},
   "outputs": [],
   "source": [
    "alternatives = {}"
   ]
  },
  {
   "cell_type": "code",
   "execution_count": 150,
   "metadata": {},
   "outputs": [],
   "source": [
    "for groupcombo in range(0,len(unique_values)):\n",
    "    cond = ''\n",
    "    for var in choice_groups:\n",
    "        if cond == '':\n",
    "            cond = cond + var + '==' + str(unique_values.iloc[groupcombo].values[0])\n",
    "        else:\n",
    "            cond = cond + ' & ' + var + '==' + str(unique_values.iloc[groupcombo].values[0])\n",
    "    # this assumes that all neighborhoods with no firm are not part of the choice set\n",
    "    alternatives[groupcombo] = choices.query(cond).alter_id.unique()"
   ]
  },
  {
   "cell_type": "code",
   "execution_count": 151,
   "metadata": {},
   "outputs": [
    {
     "data": {
      "text/plain": [
       "{'group': array([ 4,  6, 17, 13, 27, 54, 25, 39, 24, 42, 19, 53, 10, 59, 58, 38,  8,\n",
       "        57,  5, 30,  7, 18, 21, 23, 36, 56, 41, 34, 32, 15, 40, 46, 43, 49,\n",
       "        55,  3, 37, 35, 51, 28, 44, 31,  9, 29,  0, 48, 14, 26,  1, 16, 11,\n",
       "        20, 12,  2, 47, 50, 22, 33, 45, 52]),\n",
       " 0: array([ 4,  6, 17, 13, 27, 54, 25, 39, 24, 42, 19, 53, 10, 59, 58, 38,  8,\n",
       "        57,  5, 30,  7, 18, 21, 23, 36, 56, 41, 34, 32, 15, 40, 46, 43, 49,\n",
       "        55,  3, 37, 35, 51, 28, 44, 31,  9, 29,  0, 48, 14, 26,  1, 16, 11,\n",
       "        20, 12,  2, 47, 50, 22, 33, 45, 52]),\n",
       " 1: array([ 24,  41, 111,  80,  46, 106,  48, 110,  90,  76,   4,   1,  42,\n",
       "         56,  21,  98,  31,  51,  35,  79,  55,  17,  25,  11,  43,  52,\n",
       "         68, 113,  84,   0,  50,  59,  20,  29,  91,   7,  13, 119,  85,\n",
       "        112,  39,   5,  28,  93,  33, 118,  15,  32,  99,  58,  72,  63,\n",
       "        117,  36, 101,  23,   8,   2,  54,  53,  37,  66,  62, 114,  81,\n",
       "         38,  70,  34,  14,  44,  89,  47,  87,   9,  65, 100,  26, 105,\n",
       "         19, 103,   3,  74,  49, 108,  40,  10,  97,  27,  73, 102,  60,\n",
       "         88,  16,  57,  18,  61,  77,  83,  30,  45,  69,  67, 104,  64,\n",
       "         86,  71,  75,  95,  94, 107, 109,  12, 116,  78,  92,   6,  82,\n",
       "         22,  96, 115]),\n",
       " 2: array([52,  2, 28, 20, 29, 14, 38, 47, 50, 33, 51, 42, 11, 18, 36, 25, 23,\n",
       "        24, 37, 34, 16, 26, 17, 27, 59,  8,  7, 55, 10, 32,  4, 57, 48, 12,\n",
       "        13, 39,  3, 41, 30, 15, 45, 46, 22, 35,  9,  1, 43, 21, 54, 44, 19,\n",
       "         0, 53,  6, 56, 31, 40, 49,  5, 58]),\n",
       " 3: array([7, 9, 5, 3, 4, 6, 8, 0, 2, 1])}"
      ]
     },
     "execution_count": 151,
     "metadata": {},
     "output_type": "execute_result"
    }
   ],
   "source": [
    "alternatives"
   ]
  },
  {
   "cell_type": "code",
   "execution_count": null,
   "metadata": {},
   "outputs": [],
   "source": []
  }
 ],
 "metadata": {
  "kernelspec": {
   "display_name": "Python 3",
   "language": "python",
   "name": "python3"
  },
  "language_info": {
   "codemirror_mode": {
    "name": "ipython",
    "version": 3
   },
   "file_extension": ".py",
   "mimetype": "text/x-python",
   "name": "python",
   "nbconvert_exporter": "python",
   "pygments_lexer": "ipython3",
   "version": "3.8.6"
  }
 },
 "nbformat": 4,
 "nbformat_minor": 4
}
