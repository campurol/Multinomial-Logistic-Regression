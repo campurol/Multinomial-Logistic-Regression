{
 "cells": [
  {
   "cell_type": "markdown",
   "metadata": {},
   "source": [
    "### Abstract\n",
    "\n",
    "This notebook is intended to showcase how to use the MNL (Multinomial Logistic Regression) model to predict the booking probability for each option within a session.\n",
    "\n",
    "One can find the sample training and testing data under the `data` folder."
   ]
  },
  {
   "cell_type": "code",
   "execution_count": 1,
   "metadata": {},
   "outputs": [],
   "source": [
    "# import the model and all the auxiliary functions\n",
    "from MNL import *\n",
    "from MNL_plus import *\n",
    "from Mint import *\n",
    "\n",
    "# for auto-reloading external modules\n",
    "# see http://stackoverflow.com/questions/1907993/autoreload-of-modules-in-ipython\n",
    "%load_ext autoreload\n",
    "%autoreload 2"
   ]
  },
  {
   "cell_type": "code",
   "execution_count": 2,
   "metadata": {},
   "outputs": [
    {
     "name": "stderr",
     "output_type": "stream",
     "text": [
      "Matplotlib created a temporary config/cache directory at /tmp/matplotlib-bml5pno2 because the default path (/home/jovyan/.config/matplotlib) is not a writable directory; it is highly recommended to set the MPLCONFIGDIR environment variable to a writable directory, in particular to speed up the import of Matplotlib and to better support multiprocessing.\n"
     ]
    }
   ],
   "source": [
    "import pandas as pd\n",
    "import numpy as np\n",
    "\n",
    "import pprint \n",
    "pp = pprint.PrettyPrinter(indent=4)\n",
    "\n",
    "import seaborn as sns\n",
    "import matplotlib.pyplot as plt\n",
    "%matplotlib inline\n",
    "\n",
    "from matplotlib.pylab import rcParams\n",
    "rcParams['figure.figsize'] = 15,6\n",
    "rcParams['figure.dpi'] = 100\n",
    "rcParams['savefig.dpi'] = 100"
   ]
  },
  {
   "cell_type": "code",
   "execution_count": 3,
   "metadata": {},
   "outputs": [],
   "source": [
    "\n",
    "TRAIN_CONFIG = {\n",
    "    #'MNL_features': MNL_features,\n",
    "    \n",
    "    # when absent, by default, use all the features within the training data\n",
    "    #'alter_features': MNL_features,\n",
    "    #'session_features'\n",
    "    \n",
    "    # options: BinaryCrossEntropy, MaxLogLikelihood\n",
    "    #'loss':  'MaxLogLikelihood',\n",
    "    'loss':  'MaxLogLikelihood',\n",
    "    \n",
    "    'expand': False,\n",
    "    \n",
    "    'optimizer': 'Adam',  # options:  Adam, RMSprop, SGD, LBFGS.\n",
    "    # Adam would converge much faster\n",
    "    # LBFGS is a very memory intensive optimizer (it requires additional param_bytes * (history_size + 1) bytes).\n",
    "    # If it doesn’t fit in memory try reducing the history size, or use a different algorithm.\n",
    "    # By default, history_size == 100\n",
    "    'learning_rate': 0.1, # Applicable to Adam, SGD, and LBFGS\n",
    "    # The learning_rate parameter seems essential to LBFGS, which converges in two epochs.\n",
    "    #  So far, learning_rate == 0.1 seems to be ok for LBFGS\n",
    "    \n",
    "    #'momentum': 0.9,  # applicable to SGD, RMSprop\n",
    "    'momentum': 0.01,  # applicable to SGD, RMSprop\n",
    "    \n",
    "    # The resulting model seems to be more balanced, i.e. no extreme large/small weights,\n",
    "    #  although one might not have the most ideal performance, i.e. high top_5_rank etc.\n",
    "    'weight_decay': 0, # Applicable to Adam, RMSprop and SGD\n",
    "    \n",
    "    'epochs': 20,\n",
    "    'early_stop_min_delta': 1e-4,\n",
    "    'patience': 5,\n",
    "    \n",
    "    'gpu': False,  # luckily, running on GPU is faster than CPU in this case.\n",
    "    \n",
    "    # level of logging, 0: no log,  1: print epoch related logs;  2: print session related logs\n",
    "    'verbose': 1,\n",
    "    \n",
    "    # Adding the regularization degredates the performance of model\n",
    "    #   which might suggests that the model is still underfitting, not overfitting.\n",
    "    'l1_loss_weight': 0,  # e.g. 0.001 the regularization that would marginalize the weights\n",
    "    'l2_loss_weight': 0,\n",
    "    \n",
    "    # flag indicates whether to save gradients during the training\n",
    "    'save_gradients': False\n",
    "}\n"
   ]
  },
  {
   "cell_type": "code",
   "execution_count": 4,
   "metadata": {},
   "outputs": [
    {
     "name": "stdout",
     "output_type": "stream",
     "text": [
      "Num features: 17\n",
      "========================\n",
      "{'loss': 'MaxLogLikelihood', 'expand': False, 'optimizer': 'Adam', 'learning_rate': 0.1, 'momentum': 0.01, 'weight_decay': 0, 'epochs': 20, 'early_stop_min_delta': 0.0001, 'patience': 5, 'gpu': False, 'verbose': 1, 'l1_loss_weight': 0, 'l2_loss_weight': 0, 'save_gradients': False, 'MNL_features': ['deptime_inbound_cos2p', 'deptime_inbound_cos4p', 'deptime_inbound_sin2p', 'deptime_inbound_sin4p', 'deptime_outbound_cos2p', 'deptime_outbound_cos4p', 'deptime_outbound_sin2p', 'deptime_outbound_sin4p', 'price_elasticity', 'reco_contains_CX', 'reco_contains_MH', 'reco_contains_OD', 'reco_contains_PG', 'reco_contains_SQ', 'reco_contains_TG', 'reco_contains_VN', 'rescaled_reco_eft']}\n",
      "========================\n",
      "epoch: 0  loss: -10.149486144764381 best_loss: 1000000000000000.0\n",
      "epoch: 1  loss: -9.012134675855348 best_loss: -10.149486144764381\n",
      "epoch: 2  loss: -12.659475007502628 best_loss: -10.149486144764381\n",
      "epoch: 3  loss: -12.075658117316259 best_loss: -12.659475007502628\n",
      "epoch: 4  loss: -13.113415362232624 best_loss: -12.659475007502628\n",
      "epoch: 5  loss: -12.652749911403564 best_loss: -13.113415362232624\n",
      "epoch: 6  loss: -12.928113934757219 best_loss: -13.113415362232624\n",
      "epoch: 7  loss: -13.383462558280488 best_loss: -13.113415362232624\n",
      "epoch: 8  loss: -13.1870760086979 best_loss: -13.383462558280488\n",
      "epoch: 9  loss: -12.916036137599118 best_loss: -13.383462558280488\n",
      "epoch: 10  loss: -13.041824646797172 best_loss: -13.383462558280488\n",
      "epoch: 11  loss: -12.76827708009597 best_loss: -13.383462558280488\n",
      "epoch: 12  loss: -10.240723990466462 best_loss: -13.383462558280488\n",
      "Early stopping!  epoch: 12 min_delta: 0.0001  patience: 5\n",
      "Final epoch: 12  loss: -10.240723990466462\n",
      "Num features: 17\n",
      "========================\n",
      "{'loss': 'MaxLogLikelihood', 'expand': False, 'optimizer': 'Adam', 'learning_rate': 0.1, 'momentum': 0.01, 'weight_decay': 0, 'epochs': 20, 'early_stop_min_delta': 0.0001, 'patience': 5, 'gpu': False, 'verbose': 1, 'l1_loss_weight': 0, 'l2_loss_weight': 0, 'save_gradients': False, 'MNL_features': ['deptime_inbound_cos2p', 'deptime_inbound_cos4p', 'deptime_inbound_sin2p', 'deptime_inbound_sin4p', 'deptime_outbound_cos2p', 'deptime_outbound_cos4p', 'deptime_outbound_sin2p', 'deptime_outbound_sin4p', 'price_elasticity', 'reco_contains_CX', 'reco_contains_MH', 'reco_contains_OD', 'reco_contains_PG', 'reco_contains_SQ', 'reco_contains_TG', 'reco_contains_VN', 'rescaled_reco_eft']}\n",
      "========================\n",
      "Continue training...\n",
      "epoch: 0  loss: -9.463485398692555 best_loss: 1000000000000000.0\n",
      "epoch: 1  loss: -9.766291667702923 best_loss: -9.463485398692555\n",
      "epoch: 2  loss: -12.10446045560287 best_loss: -9.766291667702923\n",
      "epoch: 3  loss: -13.407801112929244 best_loss: -12.10446045560287\n",
      "epoch: 4  loss: -13.402670798784799 best_loss: -13.407801112929244\n",
      "epoch: 5  loss: -13.369237920274948 best_loss: -13.407801112929244\n",
      "epoch: 6  loss: -13.382587481430663 best_loss: -13.407801112929244\n",
      "epoch: 7  loss: -13.513678121329475 best_loss: -13.407801112929244\n",
      "epoch: 8  loss: -12.258653591159387 best_loss: -13.513678121329475\n",
      "epoch: 9  loss: -13.273488167329878 best_loss: -13.513678121329475\n",
      "epoch: 10  loss: -13.487369597621523 best_loss: -13.513678121329475\n",
      "epoch: 11  loss: -13.528295875989993 best_loss: -13.513678121329475\n",
      "epoch: 12  loss: -13.512361727477149 best_loss: -13.528295875989993\n",
      "epoch: 13  loss: -13.573228231771497 best_loss: -13.528295875989993\n",
      "epoch: 14  loss: -13.577805927512859 best_loss: -13.573228231771497\n",
      "epoch: 15  loss: -13.533779164953799 best_loss: -13.577805927512859\n",
      "epoch: 16  loss: -13.388355051779659 best_loss: -13.577805927512859\n",
      "epoch: 17  loss: -13.573702009632658 best_loss: -13.577805927512859\n",
      "epoch: 18  loss: -13.862392383211725 best_loss: -13.577805927512859\n",
      "epoch: 19  loss: -12.603277025767884 best_loss: -13.862392383211725\n",
      "Final epoch: 19  loss: -12.603277025767884\n"
     ]
    },
    {
     "data": {
      "image/png": "[encoded data removed]",
      "text/plain": [
       "<Figure size 1500x600 with 1 Axes>"
      ]
     },
     "metadata": {
      "needs_background": "light"
     },
     "output_type": "display_data"
    }
   ],
   "source": [
    "# set random seed for reproduceability\n",
    "np.random.seed(17)\n",
    "torch.manual_seed(17)\n",
    "\n",
    "df_train = pd.read_csv('data/train_SINBKK_RT_B.csv')\n",
    "\n",
    "# Create a brand-new model\n",
    "model_tuple, loss_list = run_training(df_training=df_train, train_config=TRAIN_CONFIG)\n",
    "\n",
    "# Continue training on the existing model\n",
    "model_tuple, loss_list = run_training(df_training=df_train, train_config=TRAIN_CONFIG, model_tuple=model_tuple)\n",
    "\n",
    "\n",
    "# unzip the tuple\n",
    "(model, loss, optimizer) = model_tuple\n",
    "\n",
    "\n",
    "# plot the evolution of loss\n",
    "plot_loss(loss_list)"
   ]
  },
  {
   "cell_type": "markdown",
   "metadata": {},
   "source": [
    "### Model Validation\n",
    "\n",
    "In this section, we test the trained model and calculate some performance benchmarks."
   ]
  },
  {
   "cell_type": "code",
   "execution_count": 5,
   "metadata": {},
   "outputs": [
    {
     "name": "stdout",
     "output_type": "stream",
     "text": [
      "Num of testing sessions: 542\n"
     ]
    },
    {
     "data": {
      "text/html": [
       "<div>\n",
       "<style scoped>\n",
       "    .dataframe tbody tr th:only-of-type {\n",
       "        vertical-align: middle;\n",
       "    }\n",
       "\n",
       "    .dataframe tbody tr th {\n",
       "        vertical-align: top;\n",
       "    }\n",
       "\n",
       "    .dataframe thead th {\n",
       "        text-align: right;\n",
       "    }\n",
       "</style>\n",
       "<table border=\"1\" class=\"dataframe\">\n",
       "  <thead>\n",
       "    <tr style=\"text-align: right;\">\n",
       "      <th></th>\n",
       "      <th>session_id</th>\n",
       "      <th>alter_id</th>\n",
       "      <th>choice</th>\n",
       "      <th>price_elasticity</th>\n",
       "      <th>rescaled_reco_eft</th>\n",
       "      <th>reco_contains_MH</th>\n",
       "      <th>reco_contains_TG</th>\n",
       "      <th>reco_contains_PG</th>\n",
       "      <th>reco_contains_SQ</th>\n",
       "      <th>reco_contains_VN</th>\n",
       "      <th>...</th>\n",
       "      <th>reco_contains_OD</th>\n",
       "      <th>deptime_outbound_sin2p</th>\n",
       "      <th>deptime_outbound_sin4p</th>\n",
       "      <th>deptime_outbound_cos2p</th>\n",
       "      <th>deptime_outbound_cos4p</th>\n",
       "      <th>deptime_inbound_sin2p</th>\n",
       "      <th>deptime_inbound_sin4p</th>\n",
       "      <th>deptime_inbound_cos2p</th>\n",
       "      <th>deptime_inbound_cos4p</th>\n",
       "      <th>pred_value</th>\n",
       "    </tr>\n",
       "  </thead>\n",
       "  <tbody>\n",
       "    <tr>\n",
       "      <th>12272</th>\n",
       "      <td>1703297276</td>\n",
       "      <td>0</td>\n",
       "      <td>1</td>\n",
       "      <td>435.6</td>\n",
       "      <td>0.000000</td>\n",
       "      <td>0</td>\n",
       "      <td>1</td>\n",
       "      <td>0</td>\n",
       "      <td>0</td>\n",
       "      <td>0</td>\n",
       "      <td>...</td>\n",
       "      <td>0</td>\n",
       "      <td>-0.108867</td>\n",
       "      <td>0.216439</td>\n",
       "      <td>-0.994056</td>\n",
       "      <td>0.976296</td>\n",
       "      <td>-0.906308</td>\n",
       "      <td>-7.660441e-01</td>\n",
       "      <td>4.226180e-01</td>\n",
       "      <td>-0.642788</td>\n",
       "      <td>0.000000e+00</td>\n",
       "    </tr>\n",
       "    <tr>\n",
       "      <th>12273</th>\n",
       "      <td>1703297276</td>\n",
       "      <td>1</td>\n",
       "      <td>0</td>\n",
       "      <td>186.8</td>\n",
       "      <td>0.000000</td>\n",
       "      <td>0</td>\n",
       "      <td>0</td>\n",
       "      <td>0</td>\n",
       "      <td>0</td>\n",
       "      <td>0</td>\n",
       "      <td>...</td>\n",
       "      <td>0</td>\n",
       "      <td>-0.402747</td>\n",
       "      <td>0.737277</td>\n",
       "      <td>-0.915312</td>\n",
       "      <td>0.675590</td>\n",
       "      <td>0.043619</td>\n",
       "      <td>-8.715581e-02</td>\n",
       "      <td>-9.990482e-01</td>\n",
       "      <td>0.996195</td>\n",
       "      <td>1.000000e+00</td>\n",
       "    </tr>\n",
       "    <tr>\n",
       "      <th>12274</th>\n",
       "      <td>1703297276</td>\n",
       "      <td>2</td>\n",
       "      <td>0</td>\n",
       "      <td>216.6</td>\n",
       "      <td>3.997044</td>\n",
       "      <td>1</td>\n",
       "      <td>0</td>\n",
       "      <td>0</td>\n",
       "      <td>0</td>\n",
       "      <td>0</td>\n",
       "      <td>...</td>\n",
       "      <td>0</td>\n",
       "      <td>-0.806445</td>\n",
       "      <td>0.953717</td>\n",
       "      <td>-0.591309</td>\n",
       "      <td>-0.300706</td>\n",
       "      <td>1.000000</td>\n",
       "      <td>1.224647e-16</td>\n",
       "      <td>6.123234e-17</td>\n",
       "      <td>-1.000000</td>\n",
       "      <td>3.816978e-192</td>\n",
       "    </tr>\n",
       "    <tr>\n",
       "      <th>12275</th>\n",
       "      <td>1703297276</td>\n",
       "      <td>3</td>\n",
       "      <td>0</td>\n",
       "      <td>216.6</td>\n",
       "      <td>5.080044</td>\n",
       "      <td>1</td>\n",
       "      <td>0</td>\n",
       "      <td>0</td>\n",
       "      <td>0</td>\n",
       "      <td>0</td>\n",
       "      <td>...</td>\n",
       "      <td>0</td>\n",
       "      <td>-0.806445</td>\n",
       "      <td>0.953717</td>\n",
       "      <td>-0.591309</td>\n",
       "      <td>-0.300706</td>\n",
       "      <td>1.000000</td>\n",
       "      <td>1.224647e-16</td>\n",
       "      <td>6.123234e-17</td>\n",
       "      <td>-1.000000</td>\n",
       "      <td>3.423179e-219</td>\n",
       "    </tr>\n",
       "    <tr>\n",
       "      <th>12276</th>\n",
       "      <td>1703297276</td>\n",
       "      <td>4</td>\n",
       "      <td>0</td>\n",
       "      <td>216.6</td>\n",
       "      <td>5.497044</td>\n",
       "      <td>1</td>\n",
       "      <td>0</td>\n",
       "      <td>0</td>\n",
       "      <td>0</td>\n",
       "      <td>0</td>\n",
       "      <td>...</td>\n",
       "      <td>0</td>\n",
       "      <td>-0.806445</td>\n",
       "      <td>0.953717</td>\n",
       "      <td>-0.591309</td>\n",
       "      <td>-0.300706</td>\n",
       "      <td>1.000000</td>\n",
       "      <td>1.224647e-16</td>\n",
       "      <td>6.123234e-17</td>\n",
       "      <td>-1.000000</td>\n",
       "      <td>1.318558e-229</td>\n",
       "    </tr>\n",
       "  </tbody>\n",
       "</table>\n",
       "<p>5 rows × 21 columns</p>\n",
       "</div>"
      ],
      "text/plain": [
       "       session_id  alter_id  choice  price_elasticity  rescaled_reco_eft  \\\n",
       "12272  1703297276         0       1             435.6           0.000000   \n",
       "12273  1703297276         1       0             186.8           0.000000   \n",
       "12274  1703297276         2       0             216.6           3.997044   \n",
       "12275  1703297276         3       0             216.6           5.080044   \n",
       "12276  1703297276         4       0             216.6           5.497044   \n",
       "\n",
       "       reco_contains_MH  reco_contains_TG  reco_contains_PG  reco_contains_SQ  \\\n",
       "12272                 0                 1                 0                 0   \n",
       "12273                 0                 0                 0                 0   \n",
       "12274                 1                 0                 0                 0   \n",
       "12275                 1                 0                 0                 0   \n",
       "12276                 1                 0                 0                 0   \n",
       "\n",
       "       reco_contains_VN  ...  reco_contains_OD  deptime_outbound_sin2p  \\\n",
       "12272                 0  ...                 0               -0.108867   \n",
       "12273                 0  ...                 0               -0.402747   \n",
       "12274                 0  ...                 0               -0.806445   \n",
       "12275                 0  ...                 0               -0.806445   \n",
       "12276                 0  ...                 0               -0.806445   \n",
       "\n",
       "       deptime_outbound_sin4p  deptime_outbound_cos2p  deptime_outbound_cos4p  \\\n",
       "12272                0.216439               -0.994056                0.976296   \n",
       "12273                0.737277               -0.915312                0.675590   \n",
       "12274                0.953717               -0.591309               -0.300706   \n",
       "12275                0.953717               -0.591309               -0.300706   \n",
       "12276                0.953717               -0.591309               -0.300706   \n",
       "\n",
       "       deptime_inbound_sin2p  deptime_inbound_sin4p  deptime_inbound_cos2p  \\\n",
       "12272              -0.906308          -7.660441e-01           4.226180e-01   \n",
       "12273               0.043619          -8.715581e-02          -9.990482e-01   \n",
       "12274               1.000000           1.224647e-16           6.123234e-17   \n",
       "12275               1.000000           1.224647e-16           6.123234e-17   \n",
       "12276               1.000000           1.224647e-16           6.123234e-17   \n",
       "\n",
       "       deptime_inbound_cos4p     pred_value  \n",
       "12272              -0.642788   0.000000e+00  \n",
       "12273               0.996195   1.000000e+00  \n",
       "12274              -1.000000  3.816978e-192  \n",
       "12275              -1.000000  3.423179e-219  \n",
       "12276              -1.000000  1.318558e-229  \n",
       "\n",
       "[5 rows x 21 columns]"
      ]
     },
     "execution_count": 5,
     "metadata": {},
     "output_type": "execute_result"
    }
   ],
   "source": [
    "df_test = pd.read_csv('data/test_SINBKK_RT_B.csv')\n",
    "\n",
    "test_results = test_model(model, df_test, TRAIN_CONFIG)\n",
    "\n",
    "test_results.head()"
   ]
  },
  {
   "cell_type": "code",
   "execution_count": 6,
   "metadata": {},
   "outputs": [
    {
     "name": "stdout",
     "output_type": "stream",
     "text": [
      "Num of testing sessions: 542\n"
     ]
    },
    {
     "data": {
      "text/html": [
       "<div>\n",
       "<style scoped>\n",
       "    .dataframe tbody tr th:only-of-type {\n",
       "        vertical-align: middle;\n",
       "    }\n",
       "\n",
       "    .dataframe tbody tr th {\n",
       "        vertical-align: top;\n",
       "    }\n",
       "\n",
       "    .dataframe thead th {\n",
       "        text-align: right;\n",
       "    }\n",
       "</style>\n",
       "<table border=\"1\" class=\"dataframe\">\n",
       "  <thead>\n",
       "    <tr style=\"text-align: right;\">\n",
       "      <th></th>\n",
       "      <th>session_id</th>\n",
       "      <th>session_size</th>\n",
       "      <th>num_chosen_choices</th>\n",
       "      <th>rank_of_chosen_one</th>\n",
       "      <th>prob_of_chosen_one</th>\n",
       "      <th>max_prob</th>\n",
       "    </tr>\n",
       "  </thead>\n",
       "  <tbody>\n",
       "    <tr>\n",
       "      <th>0</th>\n",
       "      <td>1702036</td>\n",
       "      <td>36</td>\n",
       "      <td>1</td>\n",
       "      <td>26.5</td>\n",
       "      <td>0.000000e+00</td>\n",
       "      <td>1.000000</td>\n",
       "    </tr>\n",
       "    <tr>\n",
       "      <th>1</th>\n",
       "      <td>1704193</td>\n",
       "      <td>60</td>\n",
       "      <td>1</td>\n",
       "      <td>40.5</td>\n",
       "      <td>0.000000e+00</td>\n",
       "      <td>0.863301</td>\n",
       "    </tr>\n",
       "    <tr>\n",
       "      <th>2</th>\n",
       "      <td>17033132</td>\n",
       "      <td>60</td>\n",
       "      <td>1</td>\n",
       "      <td>2.0</td>\n",
       "      <td>9.560976e-50</td>\n",
       "      <td>1.000000</td>\n",
       "    </tr>\n",
       "    <tr>\n",
       "      <th>3</th>\n",
       "      <td>17041139</td>\n",
       "      <td>60</td>\n",
       "      <td>1</td>\n",
       "      <td>1.0</td>\n",
       "      <td>1.000000e+00</td>\n",
       "      <td>1.000000</td>\n",
       "    </tr>\n",
       "    <tr>\n",
       "      <th>4</th>\n",
       "      <td>17042962</td>\n",
       "      <td>60</td>\n",
       "      <td>1</td>\n",
       "      <td>2.0</td>\n",
       "      <td>9.558583e-17</td>\n",
       "      <td>1.000000</td>\n",
       "    </tr>\n",
       "  </tbody>\n",
       "</table>\n",
       "</div>"
      ],
      "text/plain": [
       "   session_id  session_size  num_chosen_choices  rank_of_chosen_one  \\\n",
       "0     1702036            36                   1                26.5   \n",
       "1     1704193            60                   1                40.5   \n",
       "2    17033132            60                   1                 2.0   \n",
       "3    17041139            60                   1                 1.0   \n",
       "4    17042962            60                   1                 2.0   \n",
       "\n",
       "   prob_of_chosen_one  max_prob  \n",
       "0        0.000000e+00  1.000000  \n",
       "1        0.000000e+00  0.863301  \n",
       "2        9.560976e-50  1.000000  \n",
       "3        1.000000e+00  1.000000  \n",
       "4        9.558583e-17  1.000000  "
      ]
     },
     "execution_count": 6,
     "metadata": {},
     "output_type": "execute_result"
    }
   ],
   "source": [
    "# Test the model with the testing data\n",
    "# Calculate the probability and the trank of the chosen alternative\n",
    "test_stats = validate(model, df_test, TRAIN_CONFIG)\n",
    "\n",
    "test_stats.head()"
   ]
  },
  {
   "cell_type": "markdown",
   "metadata": {},
   "source": [
    "Summarize the testing results into a list of KPIs, such as:\n",
    "\n",
    "- *mean_probability*: the average probability of the predicted alternative among all sessions\n",
    "\n",
    "\n",
    "- *top_5_rank_quantile*: the percentile of sessions where the probability of the predicted alternative is among the top 5.\n",
    "\n",
    "\n",
    "- *AIC*: Akaike Information Criterion, which offers an estimate of the relative information lost when a given model is used to represent the process that generated the data."
   ]
  },
  {
   "cell_type": "code",
   "execution_count": 7,
   "metadata": {},
   "outputs": [
    {
     "data": {
      "text/plain": [
       "{'session_num': 542,\n",
       " 'mean_session_size': 54.7029520295203,\n",
       " 'top_1_rank_quantile': 11.07011070110701,\n",
       " 'top_5_rank_quantile': 27.121771217712176,\n",
       " 'top_10_rank_quantile': 36.715867158671585,\n",
       " 'mean_rank_ratio': 0.4250111235817008,\n",
       " 'median_rank_ratio': 0.525,\n",
       " 'mean_rank': 22.631918819188193,\n",
       " 'median_rank': 21.0,\n",
       " 'mean_probability': 0.11068156526079526,\n",
       " 'median_probability': 2.2521259924308626e-232,\n",
       " 'mean_probability_diff': -0.8822068045790608,\n",
       " 'median_probability_diff': -0.9999999999999989,\n",
       " 'log_likelihood': -inf,\n",
       " 'mean_log_likelihood': -inf,\n",
       " 'AIC': inf}"
      ]
     },
     "execution_count": 7,
     "metadata": {},
     "output_type": "execute_result"
    }
   ],
   "source": [
    "summarize_KPIs(test_stats, len(TRAIN_CONFIG['MNL_features']))"
   ]
  },
  {
   "cell_type": "markdown",
   "metadata": {},
   "source": [
    "### Model Deployment\n",
    "\n",
    "In this section, we show some examples on how to use the APIs to serialize the model and eventually deploy it in the production environment. "
   ]
  },
  {
   "cell_type": "code",
   "execution_count": 8,
   "metadata": {},
   "outputs": [
    {
     "data": {
      "text/plain": [
       "{'deptime_inbound_cos2p': 22.154397502739318,\n",
       " 'deptime_inbound_cos4p': -21.859528388337626,\n",
       " 'deptime_inbound_sin2p': -75.5733169290863,\n",
       " 'deptime_inbound_sin4p': -11.688776986653709,\n",
       " 'deptime_outbound_cos2p': -34.90392093155359,\n",
       " 'deptime_outbound_cos4p': 4.613833871600256,\n",
       " 'deptime_outbound_sin2p': 35.09828912073398,\n",
       " 'deptime_outbound_sin4p': -29.18238730401567,\n",
       " 'price_elasticity': -4.091185658157526,\n",
       " 'reco_contains_CX': -11.082418833949987,\n",
       " 'reco_contains_MH': -56.243953257247306,\n",
       " 'reco_contains_OD': -0.7340172793425487,\n",
       " 'reco_contains_PG': -66.8419821413993,\n",
       " 'reco_contains_SQ': -2.614931469782748,\n",
       " 'reco_contains_TG': 78.72566947429883,\n",
       " 'reco_contains_VN': -6.023405073883778,\n",
       " 'rescaled_reco_eft': -57.50571262893409}"
      ]
     },
     "execution_count": 8,
     "metadata": {},
     "output_type": "execute_result"
    }
   ],
   "source": [
    "# Transfer the trained model to a minimized model for later inference.\n",
    "model_to_deploy = Mint(TRAIN_CONFIG['MNL_features'], model.get_feature_weights())\n",
    "\n",
    "model_to_deploy.get_feature_weights()"
   ]
  },
  {
   "cell_type": "code",
   "execution_count": null,
   "metadata": {},
   "outputs": [],
   "source": [
    "get_chosen_pred_value"
   ]
  },
  {
   "cell_type": "code",
   "execution_count": null,
   "metadata": {},
   "outputs": [],
   "source": [
    "model_to_deploy.get_feature_weights()"
   ]
  },
  {
   "cell_type": "code",
   "execution_count": 9,
   "metadata": {},
   "outputs": [
    {
     "name": "stdout",
     "output_type": "stream",
     "text": [
      "save model to  model/mint_model.pkl\n"
     ]
    }
   ],
   "source": [
    "# Dump/Pickle the model object into a binary file.\n",
    "model_to_deploy.save('model/mint_model.pkl')"
   ]
  },
  {
   "cell_type": "code",
   "execution_count": 10,
   "metadata": {},
   "outputs": [
    {
     "name": "stdout",
     "output_type": "stream",
     "text": [
      "load model from  model/mint_model.pkl\n"
     ]
    }
   ],
   "source": [
    "# instantialize a new model from the pickle file\n",
    "inference_model = load_model('model/mint_model.pkl')"
   ]
  },
  {
   "cell_type": "code",
   "execution_count": 11,
   "metadata": {},
   "outputs": [
    {
     "data": {
      "text/html": [
       "<div>\n",
       "<style scoped>\n",
       "    .dataframe tbody tr th:only-of-type {\n",
       "        vertical-align: middle;\n",
       "    }\n",
       "\n",
       "    .dataframe tbody tr th {\n",
       "        vertical-align: top;\n",
       "    }\n",
       "\n",
       "    .dataframe thead th {\n",
       "        text-align: right;\n",
       "    }\n",
       "</style>\n",
       "<table border=\"1\" class=\"dataframe\">\n",
       "  <thead>\n",
       "    <tr style=\"text-align: right;\">\n",
       "      <th></th>\n",
       "      <th>deptime_inbound_cos2p</th>\n",
       "      <th>deptime_inbound_cos4p</th>\n",
       "      <th>deptime_inbound_sin2p</th>\n",
       "      <th>deptime_inbound_sin4p</th>\n",
       "      <th>deptime_outbound_cos2p</th>\n",
       "      <th>deptime_outbound_cos4p</th>\n",
       "      <th>deptime_outbound_sin2p</th>\n",
       "      <th>deptime_outbound_sin4p</th>\n",
       "      <th>price_elasticity</th>\n",
       "      <th>reco_contains_CX</th>\n",
       "      <th>reco_contains_MH</th>\n",
       "      <th>reco_contains_OD</th>\n",
       "      <th>reco_contains_PG</th>\n",
       "      <th>reco_contains_SQ</th>\n",
       "      <th>reco_contains_TG</th>\n",
       "      <th>reco_contains_VN</th>\n",
       "      <th>rescaled_reco_eft</th>\n",
       "    </tr>\n",
       "  </thead>\n",
       "  <tbody>\n",
       "    <tr>\n",
       "      <th>1617</th>\n",
       "      <td>0.422618</td>\n",
       "      <td>-0.642788</td>\n",
       "      <td>-0.906308</td>\n",
       "      <td>-0.766044</td>\n",
       "      <td>-0.422618</td>\n",
       "      <td>-0.642788</td>\n",
       "      <td>0.906308</td>\n",
       "      <td>-0.766044</td>\n",
       "      <td>248.6</td>\n",
       "      <td>0</td>\n",
       "      <td>0</td>\n",
       "      <td>0</td>\n",
       "      <td>0</td>\n",
       "      <td>0</td>\n",
       "      <td>1</td>\n",
       "      <td>0</td>\n",
       "      <td>0.0</td>\n",
       "    </tr>\n",
       "    <tr>\n",
       "      <th>1618</th>\n",
       "      <td>-0.980785</td>\n",
       "      <td>0.923880</td>\n",
       "      <td>0.195090</td>\n",
       "      <td>-0.382683</td>\n",
       "      <td>-0.994056</td>\n",
       "      <td>0.976296</td>\n",
       "      <td>-0.108867</td>\n",
       "      <td>0.216439</td>\n",
       "      <td>217.6</td>\n",
       "      <td>0</td>\n",
       "      <td>0</td>\n",
       "      <td>0</td>\n",
       "      <td>0</td>\n",
       "      <td>0</td>\n",
       "      <td>1</td>\n",
       "      <td>0</td>\n",
       "      <td>0.0</td>\n",
       "    </tr>\n",
       "    <tr>\n",
       "      <th>1619</th>\n",
       "      <td>-0.980785</td>\n",
       "      <td>0.923880</td>\n",
       "      <td>0.195090</td>\n",
       "      <td>-0.382683</td>\n",
       "      <td>-0.518773</td>\n",
       "      <td>-0.461748</td>\n",
       "      <td>-0.854912</td>\n",
       "      <td>0.887011</td>\n",
       "      <td>217.6</td>\n",
       "      <td>0</td>\n",
       "      <td>0</td>\n",
       "      <td>0</td>\n",
       "      <td>0</td>\n",
       "      <td>0</td>\n",
       "      <td>1</td>\n",
       "      <td>0</td>\n",
       "      <td>0.0</td>\n",
       "    </tr>\n",
       "    <tr>\n",
       "      <th>1620</th>\n",
       "      <td>-0.980785</td>\n",
       "      <td>0.923880</td>\n",
       "      <td>0.195090</td>\n",
       "      <td>-0.382683</td>\n",
       "      <td>-0.422618</td>\n",
       "      <td>-0.642788</td>\n",
       "      <td>0.906308</td>\n",
       "      <td>-0.766044</td>\n",
       "      <td>233.6</td>\n",
       "      <td>0</td>\n",
       "      <td>0</td>\n",
       "      <td>0</td>\n",
       "      <td>0</td>\n",
       "      <td>0</td>\n",
       "      <td>1</td>\n",
       "      <td>0</td>\n",
       "      <td>0.0</td>\n",
       "    </tr>\n",
       "    <tr>\n",
       "      <th>1621</th>\n",
       "      <td>-0.887011</td>\n",
       "      <td>0.573576</td>\n",
       "      <td>-0.461749</td>\n",
       "      <td>0.819152</td>\n",
       "      <td>-0.994056</td>\n",
       "      <td>0.976296</td>\n",
       "      <td>-0.108867</td>\n",
       "      <td>0.216439</td>\n",
       "      <td>233.6</td>\n",
       "      <td>0</td>\n",
       "      <td>0</td>\n",
       "      <td>0</td>\n",
       "      <td>0</td>\n",
       "      <td>0</td>\n",
       "      <td>1</td>\n",
       "      <td>0</td>\n",
       "      <td>0.0</td>\n",
       "    </tr>\n",
       "  </tbody>\n",
       "</table>\n",
       "</div>"
      ],
      "text/plain": [
       "      deptime_inbound_cos2p  deptime_inbound_cos4p  deptime_inbound_sin2p  \\\n",
       "1617               0.422618              -0.642788              -0.906308   \n",
       "1618              -0.980785               0.923880               0.195090   \n",
       "1619              -0.980785               0.923880               0.195090   \n",
       "1620              -0.980785               0.923880               0.195090   \n",
       "1621              -0.887011               0.573576              -0.461749   \n",
       "\n",
       "      deptime_inbound_sin4p  deptime_outbound_cos2p  deptime_outbound_cos4p  \\\n",
       "1617              -0.766044               -0.422618               -0.642788   \n",
       "1618              -0.382683               -0.994056                0.976296   \n",
       "1619              -0.382683               -0.518773               -0.461748   \n",
       "1620              -0.382683               -0.422618               -0.642788   \n",
       "1621               0.819152               -0.994056                0.976296   \n",
       "\n",
       "      deptime_outbound_sin2p  deptime_outbound_sin4p  price_elasticity  \\\n",
       "1617                0.906308               -0.766044             248.6   \n",
       "1618               -0.108867                0.216439             217.6   \n",
       "1619               -0.854912                0.887011             217.6   \n",
       "1620                0.906308               -0.766044             233.6   \n",
       "1621               -0.108867                0.216439             233.6   \n",
       "\n",
       "      reco_contains_CX  reco_contains_MH  reco_contains_OD  reco_contains_PG  \\\n",
       "1617                 0                 0                 0                 0   \n",
       "1618                 0                 0                 0                 0   \n",
       "1619                 0                 0                 0                 0   \n",
       "1620                 0                 0                 0                 0   \n",
       "1621                 0                 0                 0                 0   \n",
       "\n",
       "      reco_contains_SQ  reco_contains_TG  reco_contains_VN  rescaled_reco_eft  \n",
       "1617                 0                 1                 0                0.0  \n",
       "1618                 0                 1                 0                0.0  \n",
       "1619                 0                 1                 0                0.0  \n",
       "1620                 0                 1                 0                0.0  \n",
       "1621                 0                 1                 0                0.0  "
      ]
     },
     "execution_count": 11,
     "metadata": {},
     "output_type": "execute_result"
    }
   ],
   "source": [
    "# Sample a session for test\n",
    "sample_session = df_test[df_test['session_id'] == 170326817]\n",
    "test_X = sample_session[TRAIN_CONFIG['MNL_features']]\n",
    "test_X.head()"
   ]
  },
  {
   "cell_type": "code",
   "execution_count": 12,
   "metadata": {},
   "outputs": [
    {
     "data": {
      "text/plain": [
       "array([0., 0., 0., 0., 0., 0., 0., 0., 0., 0., 0., 0., 0., 0., 0., 0., 0.,\n",
       "       0., 0., 0., 0., 0., 0., 0., 0., 0., 0., 0., 0., 0., 0., 0., 0., 0.,\n",
       "       0., 0., 0., 0., 0., 0., 0., 0., 0., 0., 0., 0., 0., 0., 0., 0., 0.,\n",
       "       0., 0., 0., 0., 0., 0., 0., 0., 0.])"
      ]
     },
     "execution_count": 12,
     "metadata": {},
     "output_type": "execute_result"
    }
   ],
   "source": [
    "# Compare the results given by the original model with Pytorch and\n",
    "#   the inference model without pytorch. \n",
    "\n",
    "# Note: there are some subtle differences which should be due to the fact\n",
    "#   that the precision provided by Pytorch and Pandas/Numpy libraries is different.\n",
    "inference_model.predict(test_X) - model.predict(test_X).reshape(-1)"
   ]
  },
  {
   "cell_type": "markdown",
   "metadata": {},
   "source": [
    "## Implementation with expand option \n",
    "\n",
    "In this section, I show how to use the expand option. You will see that there are three datasets this time (take a look at the dummy do file in the data folder to see how they are constructed)"
   ]
  },
  {
   "cell_type": "code",
   "execution_count": 13,
   "metadata": {},
   "outputs": [],
   "source": [
    "TRAIN_CONFIG = {\n",
    "    #'MNL_features': MNL_features,\n",
    "    \n",
    "    # when absent, by default, use all the features within the training data\n",
    "    #'alter_features': MNL_features,\n",
    "    #'session_features'\n",
    "    'alter_features':['reco_contains_mh', 'reco_contains_tg', 'reco_contains_pg', 'reco_contains_sq', 'reco_contains_vn', 'reco_contains_cx', 'reco_contains_od'],\n",
    "    'session_features':['deptime_outbound_sin2p', 'deptime_outbound_sin4p', 'deptime_outbound_cos2p', 'deptime_outbound_cos4p', 'deptime_inbound_sin2p', 'deptime_inbound_sin4p', 'deptime_inbound_cos2p', 'deptime_inbound_cos4p'],\n",
    "    'choice_groups':['group','group2'],\n",
    "    \n",
    "    # options: BinaryCrossEntropy, MaxLogLikelihood\n",
    "    #'loss':  'MaxLogLikelihood',\n",
    "    'loss':  'MaxLogLikelihood',\n",
    "    \n",
    "    'expand': True,\n",
    "    \n",
    "    'optimizer': 'Adam',  # options:  Adam, RMSprop, SGD, LBFGS.\n",
    "    # Adam would converge much faster\n",
    "    # LBFGS is a very memory intensive optimizer (it requires additional param_bytes * (history_size + 1) bytes).\n",
    "    # If it doesn’t fit in memory try reducing the history size, or use a different algorithm.\n",
    "    # By default, history_size == 100\n",
    "    'learning_rate': 0.1, # Applicable to Adam, SGD, and LBFGS\n",
    "    # The learning_rate parameter seems essential to LBFGS, which converges in two epochs.\n",
    "    #  So far, learning_rate == 0.1 seems to be ok for LBFGS\n",
    "    \n",
    "    #'momentum': 0.9,  # applicable to SGD, RMSprop\n",
    "    'momentum': 0,  # applicable to SGD, RMSprop\n",
    "    \n",
    "    # The resulting model seems to be more balanced, i.e. no extreme large/small weights,\n",
    "    #  although one might not have the most ideal performance, i.e. high top_5_rank etc.\n",
    "    'weight_decay': 0.01, # Applicable to Adam, RMSprop and SGD\n",
    "    \n",
    "    'epochs': 20,\n",
    "    'early_stop_min_delta': 1e-4,\n",
    "    'patience': 5,\n",
    "    \n",
    "    'gpu': False,  # luckily, running on GPU is faster than CPU in this case.\n",
    "    \n",
    "    # level of logging, 0: no log,  1: print epoch related logs;  2: print session related logs\n",
    "    'verbose': 1,\n",
    "    \n",
    "    # Adding the regularization degredates the performance of model\n",
    "    #   which might suggests that the model is still underfitting, not overfitting.\n",
    "    'l1_loss_weight': 0,  # e.g. 0.001 the regularization that would marginalize the weights\n",
    "    'l2_loss_weight': 0,\n",
    "    \n",
    "    # flag indicates whether to save gradients during the training\n",
    "    'save_gradients': True\n",
    "}\n"
   ]
  },
  {
   "cell_type": "code",
   "execution_count": 14,
   "metadata": {},
   "outputs": [],
   "source": [
    "alter_data = pd.read_csv('data/train_SINBKK_RT_B_alter_id.csv')\n",
    "session_data = pd.read_csv('data/train_SINBKK_RT_B_session_id.csv')\n",
    "choices = pd.read_csv('data/train_SINBKK_RT_B_choices.csv')"
   ]
  },
  {
   "cell_type": "code",
   "execution_count": 15,
   "metadata": {},
   "outputs": [
    {
     "name": "stdout",
     "output_type": "stream",
     "text": [
      "Num features: 15\n",
      "========================\n",
      "{'alter_features': ['reco_contains_mh', 'reco_contains_tg', 'reco_contains_pg', 'reco_contains_sq', 'reco_contains_vn', 'reco_contains_cx', 'reco_contains_od'], 'session_features': ['deptime_outbound_sin2p', 'deptime_outbound_sin4p', 'deptime_outbound_cos2p', 'deptime_outbound_cos4p', 'deptime_inbound_sin2p', 'deptime_inbound_sin4p', 'deptime_inbound_cos2p', 'deptime_inbound_cos4p'], 'choice_groups': ['group', 'group2'], 'loss': 'MaxLogLikelihood', 'expand': True, 'optimizer': 'Adam', 'learning_rate': 0.1, 'momentum': 0, 'weight_decay': 0.01, 'epochs': 20, 'early_stop_min_delta': 0.0001, 'patience': 5, 'gpu': False, 'verbose': 1, 'l1_loss_weight': 0, 'l2_loss_weight': 0, 'save_gradients': True, 'MNL_features': ['deptime_outbound_sin2p', 'deptime_outbound_sin4p', 'deptime_outbound_cos2p', 'deptime_outbound_cos4p', 'deptime_inbound_sin2p', 'deptime_inbound_sin4p', 'deptime_inbound_cos2p', 'deptime_inbound_cos4p', 'reco_contains_mh', 'reco_contains_tg', 'reco_contains_pg', 'reco_contains_sq', 'reco_contains_vn', 'reco_contains_cx', 'reco_contains_od'], 'alternatives': {\"[1, 'hola']\": array([20, 16,  8,  1, 52, 21,  4, 19, 33, 12, 53, 35, 22, 51, 23,  7, 45,\n",
      "       41, 55, 27, 58, 43,  2, 44, 29, 15,  9, 54, 49, 46, 10, 48, 18, 13,\n",
      "       40, 11, 39, 34,  6, 24,  0,  5, 59, 14, 26, 47, 31, 56, 32, 25, 28,\n",
      "       30, 17, 42, 37, 38, 36, 57, 50,  3]), \"[2, 'hola']\": array([ 97,  74,  47,  42,  17,  76,  98,  28,  75,  80,  59,  19,  69,\n",
      "        15,  71, 105,  10,  95,   9, 111,  54,  48,   5,  22, 118,  23,\n",
      "        20, 115,  25,  87, 119,  13,  43,  30,  16,  50,  96,  27,  56,\n",
      "         3,  53,  41, 113,  32,  99,  31,  26,  94,  36, 102,  18, 116,\n",
      "        90,  57,  89,  88,  37,  52,  83,  45,  58,  49,  85, 107,  64,\n",
      "        70,  77,  35, 112,  81,   7,  78,  79,  68,  44,  93, 106,  29,\n",
      "         0,  72,  39,  65,  46,  92, 100,  91,  67, 110,  86,   8,  40,\n",
      "        24,  21, 114,   2,  38,   1, 101, 109,  60, 117,  33,  62,  11,\n",
      "       104,  66, 103,  34,  12,  61,  63, 108,   6,  55,  84,  14,  51,\n",
      "         4,  82,  73]), \"[4, 'hola']\": array([52, 55, 13, 50, 58, 11, 16, 43, 53, 32,  7, 12, 24, 17, 26, 21, 41,\n",
      "       42, 48, 28, 38, 56, 46,  8, 31, 36, 29, 49, 57, 30, 10, 45,  4,  9,\n",
      "       54,  6,  0, 37, 23,  2, 51, 33, 25,  5, 14,  1, 22, 20,  3, 39, 59,\n",
      "       34, 40, 18, 27, 19, 35, 15, 47, 44]), \"[3, 'hola']\": array([1, 6, 2, 7, 9, 3, 8, 5, 0, 4])}}\n",
      "========================\n",
      "epoch: 0  loss: -19.763361989132505 best_loss: 1000000000000000.0\n",
      "epoch: 1  loss: -19.76361458156041 best_loss: -19.763361989132505\n",
      "epoch: 2  loss: -19.763614608863882 best_loss: -19.76361458156041\n",
      "epoch: 3  loss: -19.763614608874935 best_loss: -19.76361458156041\n",
      "epoch: 4  loss: -19.763614608874946 best_loss: -19.76361458156041\n",
      "epoch: 5  loss: -19.763614608874946 best_loss: -19.76361458156041\n",
      "epoch: 6  loss: -19.763614608874946 best_loss: -19.76361458156041\n",
      "Early stopping!  epoch: 6 min_delta: 0.0001  patience: 5\n",
      "Final epoch: 6  loss: -19.763614608874946\n"
     ]
    }
   ],
   "source": [
    "model_tuple, loss_list = run_training(df_training=choices, train_config=TRAIN_CONFIG, alter_data=alter_data, session_data=session_data)"
   ]
  },
  {
   "cell_type": "code",
   "execution_count": 16,
   "metadata": {},
   "outputs": [
    {
     "name": "stdout",
     "output_type": "stream",
     "text": [
      "Num features: 15\n",
      "========================\n"
     ]
    },
    {
     "name": "stderr",
     "output_type": "stream",
     "text": [
      "IOPub data rate exceeded.\n",
      "The notebook server will temporarily stop sending output\n",
      "to the client in order to avoid crashing it.\n",
      "To change this limit, set the config variable\n",
      "`--NotebookApp.iopub_data_rate_limit`.\n",
      "\n",
      "Current values:\n",
      "NotebookApp.iopub_data_rate_limit=1000000.0 (bytes/sec)\n",
      "NotebookApp.rate_limit_window=3.0 (secs)\n",
      "\n"
     ]
    },
    {
     "name": "stdout",
     "output_type": "stream",
     "text": [
      "epoch: 0  loss: -19.763614608874946 best_loss: 1000000000000000.0\n",
      "epoch: 1  loss: -19.763614608874946 best_loss: -19.763614608874946\n",
      "epoch: 2  loss: -19.763614608874946 best_loss: -19.763614608874946\n",
      "epoch: 3  loss: -19.763614608874946 best_loss: -19.763614608874946\n",
      "epoch: 4  loss: -19.763614608874946 best_loss: -19.763614608874946\n",
      "epoch: 5  loss: -19.763614608874946 best_loss: -19.763614608874946\n",
      "Early stopping!  epoch: 5 min_delta: 0.0001  patience: 5\n",
      "Final epoch: 5  loss: -19.763614608874946\n"
     ]
    },
    {
     "data": {
      "image/png": "[encoded data removed]",
      "text/plain": [
       "<Figure size 1500x600 with 1 Axes>"
      ]
     },
     "metadata": {
      "needs_background": "light"
     },
     "output_type": "display_data"
    }
   ],
   "source": [
    "model_tuple, loss_list = run_training(df_training=choices, train_config=TRAIN_CONFIG, alter_data=alter_data, session_data=session_data, model_tuple=model_tuple)\n",
    "\n",
    "# unzip the tuple\n",
    "(model, loss, optimizer) = model_tuple\n",
    "\n",
    "# plot the evolution of loss\n",
    "plot_loss(loss_list)"
   ]
  },
  {
   "cell_type": "code",
   "execution_count": 18,
   "metadata": {},
   "outputs": [
    {
     "data": {
      "image/png": "[encoded data removed]",
      "text/plain": [
       "<Figure size 1500x600 with 1 Axes>"
      ]
     },
     "metadata": {
      "needs_background": "light"
     },
     "output_type": "display_data"
    }
   ],
   "source": [
    "# unzip the tuple\n",
    "(model, loss, optimizer) = model_tuple\n",
    "\n",
    "\n",
    "# plot the evolution of loss\n",
    "plot_loss(loss_list)"
   ]
  },
  {
   "cell_type": "code",
   "execution_count": 19,
   "metadata": {},
   "outputs": [
    {
     "ename": "TypeError",
     "evalue": "can't convert np.ndarray of type numpy.object_. The only supported types are: float64, float32, float16, int64, int32, int16, int8, uint8, and bool.",
     "output_type": "error",
     "traceback": [
      "\u001b[0;31m\u001b[0m",
      "\u001b[0;31mTypeError\u001b[0mTraceback (most recent call last)",
      "\u001b[0;32m<ipython-input-19-f03a658976bf>\u001b[0m in \u001b[0;36m<module>\u001b[0;34m\u001b[0m\n\u001b[0;32m----> 1\u001b[0;31m \u001b[0mpredY\u001b[0m \u001b[0;34m=\u001b[0m \u001b[0mmodel\u001b[0m\u001b[0;34m.\u001b[0m\u001b[0mpredict\u001b[0m\u001b[0;34m(\u001b[0m\u001b[0mchoices\u001b[0m\u001b[0;34m.\u001b[0m\u001b[0mvalues\u001b[0m\u001b[0;34m,\u001b[0m \u001b[0mbinary\u001b[0m\u001b[0;34m=\u001b[0m\u001b[0;32mFalse\u001b[0m\u001b[0;34m)\u001b[0m\u001b[0;34m\u001b[0m\u001b[0;34m\u001b[0m\u001b[0m\n\u001b[0m\u001b[1;32m      2\u001b[0m \u001b[0;34m\u001b[0m\u001b[0m\n",
      "\u001b[0;32m~/UofT/Ideas/location/code/nmlogit/MNL.py\u001b[0m in \u001b[0;36mpredict\u001b[0;34m(self, x_val, binary)\u001b[0m\n\u001b[1;32m    144\u001b[0m             \u001b[0mtensorX\u001b[0m \u001b[0;34m=\u001b[0m \u001b[0mtorch\u001b[0m\u001b[0;34m.\u001b[0m\u001b[0mfrom_numpy\u001b[0m\u001b[0;34m(\u001b[0m\u001b[0mx_val\u001b[0m\u001b[0;34m.\u001b[0m\u001b[0mvalues\u001b[0m\u001b[0;34m)\u001b[0m\u001b[0;34m.\u001b[0m\u001b[0mdouble\u001b[0m\u001b[0;34m(\u001b[0m\u001b[0;34m)\u001b[0m\u001b[0;34m\u001b[0m\u001b[0;34m\u001b[0m\u001b[0m\n\u001b[1;32m    145\u001b[0m         \u001b[0;32melse\u001b[0m\u001b[0;34m:\u001b[0m\u001b[0;34m\u001b[0m\u001b[0;34m\u001b[0m\u001b[0m\n\u001b[0;32m--> 146\u001b[0;31m             \u001b[0mtensorX\u001b[0m \u001b[0;34m=\u001b[0m \u001b[0mtorch\u001b[0m\u001b[0;34m.\u001b[0m\u001b[0mfrom_numpy\u001b[0m\u001b[0;34m(\u001b[0m\u001b[0mx_val\u001b[0m\u001b[0;34m)\u001b[0m\u001b[0;34m.\u001b[0m\u001b[0mdouble\u001b[0m\u001b[0;34m(\u001b[0m\u001b[0;34m)\u001b[0m\u001b[0;34m\u001b[0m\u001b[0;34m\u001b[0m\u001b[0m\n\u001b[0m\u001b[1;32m    147\u001b[0m \u001b[0;34m\u001b[0m\u001b[0m\n\u001b[1;32m    148\u001b[0m         \u001b[0;32mif\u001b[0m \u001b[0;34m(\u001b[0m\u001b[0mis_gpu\u001b[0m\u001b[0;34m)\u001b[0m\u001b[0;34m:\u001b[0m\u001b[0;34m\u001b[0m\u001b[0;34m\u001b[0m\u001b[0m\n",
      "\u001b[0;31mTypeError\u001b[0m: can't convert np.ndarray of type numpy.object_. The only supported types are: float64, float32, float16, int64, int32, int16, int8, uint8, and bool."
     ]
    }
   ],
   "source": [
    "predY = model.predict(choices.values, binary=False)\n",
    "\n"
   ]
  },
  {
   "cell_type": "code",
   "execution_count": null,
   "metadata": {},
   "outputs": [],
   "source": []
  },
  {
   "cell_type": "code",
   "execution_count": null,
   "metadata": {},
   "outputs": [],
   "source": [
    "        predY = model.predict(testing_data.values, binary=False)\n",
    "\n",
    "        #print('SessionId:', session_id)\n",
    "        #print('AlterId:', df_session['alter_id'].values)\n",
    "        #print('Real Y-value:', df_session['choice'].values)\n",
    "        #print('Prediction:', predY)\n",
    "\n",
    "        choice_value = df_session['choice'].values"
   ]
  }
 ],
 "metadata": {
  "kernelspec": {
   "display_name": "Python 3",
   "language": "python",
   "name": "python3"
  },
  "language_info": {
   "codemirror_mode": {
    "name": "ipython",
    "version": 3
   },
   "file_extension": ".py",
   "mimetype": "text/x-python",
   "name": "python",
   "nbconvert_exporter": "python",
   "pygments_lexer": "ipython3",
   "version": "3.8.6"
  }
 },
 "nbformat": 4,
 "nbformat_minor": 4
}
